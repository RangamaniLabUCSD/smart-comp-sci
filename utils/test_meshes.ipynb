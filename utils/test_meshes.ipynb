{
 "cells": [
  {
   "cell_type": "code",
   "execution_count": null,
   "metadata": {},
   "outputs": [],
   "source": [
    "import spread_cell_mesh_generation as mesh_gen\n",
    "from smart import mesh_tools\n",
    "import dolfin as d\n",
    "from pathlib import Path\n",
    "\n",
    "outerExpr13 = \"(1 - z**4/(2000+z**4)) * (r**2 + z**2) + 0.4*(r**2 + (z+9.72)**2)*z**4 / (15 + z**4) - 169\"\n",
    "innerExpr13 = \"(r/5.3)**2 + ((z-9.6/2)/2.4)**2 - 1\"\n",
    "thetaExpr = \"1.0\"\n",
    "roughness = [0.05, 0.05]\n",
    "\n",
    "cell_mesh, facet_markers, cell_markers = mesh_gen.create_3dcell(\n",
    "            outerExpr=outerExpr13,\n",
    "            innerExpr=\"\",\n",
    "            hEdge=0.6,\n",
    "            hInnerEdge=0.6,\n",
    "            thetaExpr=thetaExpr,\n",
    "            roughness=roughness,\n",
    "        )\n",
    "\n",
    "# nanopillars=[0.5, 2.0, 2.0])\n",
    "# for f in d.facets(cell_mesh):\n",
    "#     topology, cellIndices = mesh_tools.facet_topology(f, cell_markers)\n",
    "#     if topology == \"boundary\":\n",
    "#         facet_markers.set_value(f.index(), 10)\n",
    "\n",
    "# curv_markers = mesh_tools.compute_curvature(\n",
    "#     cell_mesh, facet_markers, cell_markers, [10, 12], [1, 2]\n",
    "# )\n",
    "\n",
    "mesh_folder = Path(\"test_mesh\")\n",
    "mesh_folder.mkdir(exist_ok=True, parents=True)\n",
    "mesh_file = mesh_folder / \"spreadCell_mesh.h5\"\n",
    "mesh_tools.write_mesh(cell_mesh, facet_markers, cell_markers, mesh_file)\n",
    "cell_markers_file = d.File(str(mesh_folder / \"mf3.pvd\"))\n",
    "cell_markers_file << cell_markers"
   ]
  }
 ],
 "metadata": {
  "kernelspec": {
   "display_name": "Python 3",
   "language": "python",
   "name": "python3"
  },
  "language_info": {
   "codemirror_mode": {
    "name": "ipython",
    "version": 3
   },
   "file_extension": ".py",
   "mimetype": "text/x-python",
   "name": "python",
   "nbconvert_exporter": "python",
   "pygments_lexer": "ipython3",
   "version": "3.10.12"
  }
 },
 "nbformat": 4,
 "nbformat_minor": 2
}
