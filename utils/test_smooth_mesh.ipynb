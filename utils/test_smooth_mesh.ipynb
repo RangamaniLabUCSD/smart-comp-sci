{
 "cells": [
  {
   "cell_type": "code",
   "execution_count": 1,
   "metadata": {},
   "outputs": [
    {
     "name": "stderr",
     "output_type": "stream",
     "text": [
      "/usr/lib/python3/dist-packages/scipy/__init__.py:146: UserWarning: A NumPy version >=1.17.3 and <1.25.0 is required for this version of SciPy (detected version 1.26.4\n",
      "  warnings.warn(f\"A NumPy version >={np_minversion} and <{np_maxversion}\"\n"
     ]
    },
    {
     "name": "stdout",
     "output_type": "stream",
     "text": [
      "\n"
     ]
    }
   ],
   "source": [
    "import spread_cell_mesh_generation as mesh_gen\n",
    "outerExpr13 = \"(1 - z**4/(2000+z**4)) * (r**2 + z**2) + 0.4*(r**2 + (z+9.72)**2)*z**4 / (15 + z**4) - 169\"\n",
    "innerExpr13 = \"(r/5.3)**2 + ((z-9.6/2)/2.4)**2 - 1\"\n",
    "cell_mesh, facet_markers, cell_markers = mesh_gen.create_3dcell(\n",
    "            outerExpr=outerExpr13,\n",
    "            innerExpr=\"\",\n",
    "            hEdge=0.5,\n",
    "            hInnerEdge=0.5,\n",
    "            thetaExpr=\"0.98 + 0.2814*cos(5*theta)\",\n",
    "        )"
   ]
  },
  {
   "cell_type": "code",
   "execution_count": 2,
   "metadata": {},
   "outputs": [
    {
     "name": "stdout",
     "output_type": "stream",
     "text": [
      "volume = 2200.45985650987\n"
     ]
    }
   ],
   "source": [
    "import dolfin as d\n",
    "d.File(\"test.pvd\") << cell_mesh\n",
    "print(f\"volume = {d.assemble(1.0*d.Measure('dx', cell_mesh))}\")"
   ]
  }
 ],
 "metadata": {
  "kernelspec": {
   "display_name": "Python 3",
   "language": "python",
   "name": "python3"
  },
  "language_info": {
   "codemirror_mode": {
    "name": "ipython",
    "version": 3
   },
   "file_extension": ".py",
   "mimetype": "text/x-python",
   "name": "python",
   "nbconvert_exporter": "python",
   "pygments_lexer": "ipython3",
   "version": "3.10.12"
  }
 },
 "nbformat": 4,
 "nbformat_minor": 2
}
