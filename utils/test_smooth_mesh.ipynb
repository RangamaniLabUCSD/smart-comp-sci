{
 "cells": [
  {
   "cell_type": "code",
   "execution_count": null,
   "metadata": {},
   "outputs": [],
   "source": [
    "import spread_cell_mesh_generation as mesh_gen\n",
    "outerExpr13 = \"(1 - z**4/(2000+z**4)) * (r**2 + z**2) + 0.4*(r**2 + (z+9.72)**2)*z**4 / (15 + z**4) - 169\"\n",
    "innerExpr13 = \"(r/5.3)**2 + ((z-9.6/2)/2.4)**2 - 1\"\n",
    "star_expr = \"0.98 + 0.2814*cos(5*theta)\"\n",
    "cell_mesh, facet_markers, cell_markers = mesh_gen.create_3dcell(\n",
    "            outerExpr=outerExpr13,\n",
    "            innerExpr=\"\",\n",
    "            hEdge=0.5,\n",
    "            hInnerEdge=0.5,\n",
    "            thetaExpr=star_expr,\n",
    "            sym_fraction=1/10,\n",
    "        )"
   ]
  },
  {
   "cell_type": "code",
   "execution_count": null,
   "metadata": {},
   "outputs": [],
   "source": [
    "import dolfin as d\n",
    "d.File(\"test.pvd\") << cell_mesh\n",
    "print(f\"volume = {d.assemble(1.0*d.Measure('dx', cell_mesh))}\")"
   ]
  }
 ],
 "metadata": {
  "kernelspec": {
   "display_name": "Python 3",
   "language": "python",
   "name": "python3"
  },
  "language_info": {
   "codemirror_mode": {
    "name": "ipython",
    "version": 3
   },
   "file_extension": ".py",
   "mimetype": "text/x-python",
   "name": "python",
   "nbconvert_exporter": "python",
   "pygments_lexer": "ipython3",
   "version": "3.10.12"
  }
 },
 "nbformat": 4,
 "nbformat_minor": 2
}
