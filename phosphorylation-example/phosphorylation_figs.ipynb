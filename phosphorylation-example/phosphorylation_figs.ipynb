{
 "cells": [
  {
   "cell_type": "code",
   "execution_count": null,
   "metadata": {},
   "outputs": [],
   "source": [
    "from matplotlib import pyplot as plt\n",
    "import numpy as np\n",
    "import postprocess\n",
    "from pathlib import Path\n",
    "import json\n",
    "\n",
    "plt.style.use(str(Path.cwd() / \"..\" / \"utils\" / \"smart_plots.mplstyle\"))"
   ]
  },
  {
   "cell_type": "code",
   "execution_count": null,
   "metadata": {},
   "outputs": [],
   "source": [
    "output_folder = Path.cwd() / \"..\" / \"scripts\" / \"results-phosphorylation\"\n",
    "results_file = output_folder / \"results_phosphorylation.json\"\n",
    "print(f\"Load results from {results_file}\")\n",
    "all_results = [postprocess.Data(**r) for r in json.loads(results_file.read_text())]\n",
    "\n",
    "# Only include results with diffusion greater than 1\n",
    "all_results = [r for r in all_results if r.diffusion > 1]"
   ]
  },
  {
   "cell_type": "code",
   "execution_count": null,
   "metadata": {},
   "outputs": [],
   "source": [
    "postprocess.plot_convergence_finest(all_results, output_folder, \".pdf\")\n",
    "# get_convergence_rates(all_results, output_folder)\n",
    "# plot_time_step_vs_error(all_results, output_folder, format)\n",
    "# plot_refinement_vs_error(all_results, output_folder, format)"
   ]
  }
 ],
 "metadata": {
  "kernelspec": {
   "display_name": "Python 3",
   "language": "python",
   "name": "python3"
  },
  "language_info": {
   "codemirror_mode": {
    "name": "ipython",
    "version": 3
   },
   "file_extension": ".py",
   "mimetype": "text/x-python",
   "name": "python",
   "nbconvert_exporter": "python",
   "pygments_lexer": "ipython3",
   "version": "3.10.12"
  }
 },
 "nbformat": 4,
 "nbformat_minor": 2
}
