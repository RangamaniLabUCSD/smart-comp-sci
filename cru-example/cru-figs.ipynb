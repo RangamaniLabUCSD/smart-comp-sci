{
 "cells": [
  {
   "cell_type": "code",
   "execution_count": null,
   "metadata": {},
   "outputs": [],
   "source": [
    "import sys, os, pathlib\n",
    "sys.path.append(\"/root/shared/gitrepos/smart-comp-sci/utils\")\n",
    "import smart_analysis\n",
    "from matplotlib import pyplot as plt\n",
    "import numpy as np\n",
    "plt.style.use(str(pathlib.Path.cwd() / \"..\" / \"utils\" / \"smart_plots.mplstyle\"))"
   ]
  },
  {
   "cell_type": "markdown",
   "metadata": {},
   "source": [
    "Analyze CRU data with vs. without SERCA (change paths to data as necessary)."
   ]
  },
  {
   "cell_type": "code",
   "execution_count": null,
   "metadata": {},
   "outputs": [],
   "source": [
    "npy_dir = pathlib.Path.cwd() / \"..\" / \"analysis_data\" / \"cru_npy_files\"\n",
    "cru_results_folder = \"/root/scratch/smart-comp-sci-data/cru_results_massconserv/cru_fixedSERCA\"\n",
    "cru_results_folder_noSERCA = \"/root/scratch/smart-comp-sci-data/cru_results_massconserv/cru_noSERCA\"\n",
    "cru_mesh = \"/root/scratch/smart-comp-sci-data/cru_results_massconserv/cru_mesh/cru_mesh.h5\"\n",
    "results_folders = [cru_results_folder, cru_results_folder, cru_results_folder,\n",
    "                   cru_results_folder_noSERCA, cru_results_folder_noSERCA, cru_results_folder_noSERCA]\n",
    "tests = [\"cru-all\", \"cru-center\", \"cru-edge\", \n",
    "         \"cru-all-noSERCA\", \"cru-center-noSERCA\", \"cru-edge-noSERCA\"]\n",
    "cru_center = [-200, -100, -150, 200, 150, 300]\n",
    "cru_edge = [-1000, -1000, -1000, -600, 1000, 1000]\n",
    "domains = [[], cru_center, cru_edge, [], cru_center, cru_edge]\n",
    "for i in range(len(tests)):\n",
    "    results_folder = results_folders[i]\n",
    "    tVec, results_all = smart_analysis.analyze_all(\n",
    "        mesh_file=cru_mesh, results_path=results_folder, display=False,\n",
    "        subdomain=domains[i])\n",
    "    results_all.insert(0, tVec) # add time as first element in list\n",
    "    max_length = len(tVec)\n",
    "    for j in range(len(results_all)):\n",
    "        if len(results_all[j]) > max_length:\n",
    "            max_length = len(results_all[j])\n",
    "    for j in range(len(results_all)):\n",
    "        num_zeros = max_length - len(results_all[j])\n",
    "        for k in range(num_zeros):\n",
    "            results_all[j].append(0)\n",
    "    np.save(npy_dir / f\"{tests[i]}.npy\", results_all)"
   ]
  },
  {
   "cell_type": "markdown",
   "metadata": {},
   "source": [
    "Make plots shown in Figure 4."
   ]
  },
  {
   "cell_type": "code",
   "execution_count": null,
   "metadata": {},
   "outputs": [],
   "source": [
    "npy_dir = pathlib.Path.cwd() / \"..\" / \"analysis_data\" / \"cru_npy_files\"\n",
    "cru_vars = [\"ATP\", \"Ca\", \"CaSR\", \"CMDN\", \"CSQN\", \"RyR\", \"SERCA\", \"TRPN\"]\n",
    "plot_cru = \"Ca\"\n",
    "f, (ax1, ax2, ax3) = plt.subplots(3, 1, sharex=False, figsize=(4,6))\n",
    "plot_cru1 = \"Ca\"\n",
    "results_cru_withSERCA = np.load(f\"{npy_dir}/cru-center-results.npy\")\n",
    "results_cru_noSERCA = np.load(f\"{npy_dir}/cru-center-noSERCA-results.npy\")\n",
    "cru_idx1 = cru_vars.index(plot_cru1) + 1\n",
    "ax1.plot(results_cru_withSERCA[0], results_cru_withSERCA[cru_idx1],label=\"CRU - with SERCA\")\n",
    "ax1.plot(results_cru_noSERCA[0], results_cru_noSERCA[cru_idx1],label=\"CRU - no SERCA\")\n",
    "ax1.set_ylim([0, 6])\n",
    "ax1.set_xlim([-.01, 0.1])\n",
    "# ax1.legend()\n",
    "ax1.set_ylabel(\"Calcium (μM)\")\n",
    "ax1.set_xlabel(\"Time (s)\")\n",
    "\n",
    "results_cru_withSERCA_edge = np.load(f\"{npy_dir}/cru-edge-results.npy\")\n",
    "results_cru_noSERCA_edge = np.load(f\"{npy_dir}/cru-edge-noSERCA-results.npy\")\n",
    "cru_idx1 = cru_vars.index(plot_cru1) + 1\n",
    "ax2.plot(results_cru_withSERCA_edge[0], \n",
    "         results_cru_withSERCA_edge[cru_idx1],label=\"CRU - with SERCA\")\n",
    "ax2.plot(results_cru_noSERCA_edge[0], \n",
    "         results_cru_noSERCA_edge[cru_idx1],label=\"CRU - no SERCA\")\n",
    "ax2.set_ylim([0, 6])\n",
    "ax2.set_xlim([-.01, 0.1])\n",
    "ax2.set_ylabel(\"Calcium (μM)\")\n",
    "ax2.set_xlabel(\"Time (s)\")\n",
    "\n",
    "plot_cru2 = \"CaSR\"\n",
    "cru_idx2 = cru_vars.index(plot_cru2) + 1\n",
    "ax3.plot(results_cru_withSERCA[0], results_cru_withSERCA[cru_idx2],label=\"CRU - with SERCA\")\n",
    "ax3.plot(results_cru_noSERCA[0], results_cru_noSERCA[cru_idx2],label=\"CRU - no SERCA\")\n",
    "# ax3.legend()\n",
    "ax3.set_ylabel(\"SR calcium (μM)\")\n",
    "ax3.set_ylim([0, 1400])\n",
    "ax3.set_xlim([-.01, 0.1])\n",
    "ax3.set_xlabel(\"Time (s)\")\n",
    "plt.savefig(f\"{npy_dir}/cru_plot.pdf\", format=\"pdf\")"
   ]
  }
 ],
 "metadata": {
  "kernelspec": {
   "display_name": "Python 3",
   "language": "python",
   "name": "python3"
  },
  "language_info": {
   "codemirror_mode": {
    "name": "ipython",
    "version": 3
   },
   "file_extension": ".py",
   "mimetype": "text/x-python",
   "name": "python",
   "nbconvert_exporter": "python",
   "pygments_lexer": "ipython3",
   "version": "3.10.12"
  }
 },
 "nbformat": 4,
 "nbformat_minor": 2
}
