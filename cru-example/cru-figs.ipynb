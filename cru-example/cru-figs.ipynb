{
 "cells": [
  {
   "cell_type": "code",
   "execution_count": null,
   "metadata": {},
   "outputs": [],
   "source": [
    "import sys, os, pathlib\n",
    "sys.path.append(\"/root/shared/gitrepos/smart-comp-sci/utils\")\n",
    "import smart_analysis\n",
    "from matplotlib import pyplot as plt\n",
    "import numpy as np\n",
    "import matplotlib\n",
    "params = {'axes.labelsize': 12,\n",
    "            'axes.titlesize': 6,\n",
    "            'legend.fontsize': 10,\n",
    "            'xtick.labelsize':10,\n",
    "            'ytick.labelsize': 10,\n",
    "            'figure.figsize': (6,4),\n",
    "            'pdf.fonttype': 42,\n",
    "            'ps.fonttype': 42,\n",
    "            'axes.spines.top': False,\n",
    "            'axes.spines.right': False,\n",
    "            'legend.loc': \"right\"}\n",
    "matplotlib.rcParams.update(params)"
   ]
  },
  {
   "cell_type": "code",
   "execution_count": null,
   "metadata": {},
   "outputs": [],
   "source": [
    "cur_dir = \"/root/shared/gitrepos/smart-comp-sci/cru-example\"\n",
    "cru_results_folder = \"/root/scratch/smart-comp-sci-data/cru_results_massconserv/cru_fixedSERCA\"\n",
    "cru_results_folder_noSERCA = \"/root/scratch/smart-comp-sci-data/cru_results_massconserv/cru_noSERCA\"\n",
    "cru_mesh = \"/root/scratch/smart-comp-sci-data/cru_results_massconserv/cru_mesh/cru_mesh.h5\"\n",
    "results_folders = [cru_results_folder, cru_results_folder, cru_results_folder,\n",
    "                   cru_results_folder_noSERCA, cru_results_folder_noSERCA, cru_results_folder_noSERCA]\n",
    "tests = [\"cru-all\", \"cru-center\", \"cru-edge\", \n",
    "         \"cru-all-noSERCA\", \"cru-center-noSERCA\", \"cru-edge-noSERCA\"]\n",
    "cru_center = [-200, -100, -150, 200, 150, 300]\n",
    "cru_edge = [-1000, -1000, -1000, -600, 1000, 1000]\n",
    "domains = [[], cru_center, cru_edge, [], cru_center, cru_edge]\n",
    "for i in range(len(tests)):\n",
    "    results_folder = results_folders[i]\n",
    "    npy_dir = pathlib.Path(f\"/root/shared/gitrepos/smart-comp-sci/ca2+-examples/npy-files\")\n",
    "    npy_dir.mkdir(exist_ok=True)\n",
    "    tVec, results_all = smart_analysis.analyze_all(\n",
    "        mesh_file=cru_mesh, results_path=results_folder, display=False,\n",
    "        subdomain=domains[i])\n",
    "    results_all.insert(0, tVec) # add time as first element in list\n",
    "    max_length = len(tVec)\n",
    "    for j in range(len(results_all)):\n",
    "        if len(results_all[j]) > max_length:\n",
    "            max_length = len(results_all[j])\n",
    "    for j in range(len(results_all)):\n",
    "        num_zeros = max_length - len(results_all[j])\n",
    "        for k in range(num_zeros):\n",
    "            results_all[j].append(0)\n",
    "    np.save(npy_dir / f\"{tests[i]}.npy\", results_all)"
   ]
  },
  {
   "cell_type": "code",
   "execution_count": null,
   "metadata": {},
   "outputs": [],
   "source": [
    "cur_dir = \"/root/shared/gitrepos/smart-comp-sci/ca2+-examples\"\n",
    "cru_vars = [\"ATP\", \"Ca\", \"CaSR\", \"CMDN\", \"CSQN\", \"RyR\", \"SERCA\", \"TRPN\"]\n",
    "plot_cru = \"Ca\"\n",
    "f, (ax1, ax2) = plt.subplots(2, 1, sharex=False)\n",
    "plot_cru1 = \"Ca\"\n",
    "results_cru_withSERCA = np.load(f\"{cur_dir}/npy-files-new/cru-center.npy\")\n",
    "results_cru_noSERCA = np.load(f\"{cur_dir}/npy-files-new/cru-center-noSERCA.npy\")\n",
    "cru_idx1 = cru_vars.index(plot_cru1) + 1\n",
    "ax1.plot(results_cru_withSERCA[0], results_cru_withSERCA[cru_idx1],label=\"CRU - with SERCA\")\n",
    "ax1.plot(results_cru_noSERCA[0], results_cru_noSERCA[cru_idx1],label=\"CRU - no SERCA\")\n",
    "# ax1.set_ylim([0, 2])\n",
    "ax1.set_xlim([-.01, 0.2])\n",
    "# ax1.legend()\n",
    "ax1.set_ylabel(\"Calcium (μM)\")\n",
    "ax1.set_xlabel(\"Time (s)\")\n",
    "\n",
    "plot_cru2 = \"CaSR\"\n",
    "cru_idx2 = cru_vars.index(plot_cru2) + 1\n",
    "ax2.plot(results_cru_withSERCA[0], results_cru_withSERCA[cru_idx2],label=\"CRU - with SERCA\")\n",
    "ax2.plot(results_cru_noSERCA[0], results_cru_noSERCA[cru_idx2],label=\"CRU - no SERCA\")\n",
    "# ax2.legend()\n",
    "ax2.set_ylabel(\"SR calcium (μM)\")\n",
    "ax2.set_ylim([0, 1400])\n",
    "ax2.set_xlim([-.01, 0.2])\n",
    "ax2.set_xlabel(\"Time (s)\")\n",
    "# plt.savefig(\"/root/shared/gitrepos/pyplots/cru_edge_plot.pdf\", format=\"pdf\")"
   ]
  }
 ],
 "metadata": {
  "kernelspec": {
   "display_name": "Python 3",
   "language": "python",
   "name": "python3"
  },
  "language_info": {
   "codemirror_mode": {
    "name": "ipython",
    "version": 3
   },
   "file_extension": ".py",
   "mimetype": "text/x-python",
   "name": "python",
   "nbconvert_exporter": "python",
   "pygments_lexer": "ipython3",
   "version": "3.10.12"
  }
 },
 "nbformat": 4,
 "nbformat_minor": 2
}
