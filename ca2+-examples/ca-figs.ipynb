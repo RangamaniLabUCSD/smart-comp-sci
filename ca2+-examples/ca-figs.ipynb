{
 "cells": [
  {
   "cell_type": "code",
   "execution_count": null,
   "metadata": {},
   "outputs": [],
   "source": [
    "import sys, os, pathlib\n",
    "sys.path.append(\"/root/shared/gitrepos/smart-comp-sci/utils\")\n",
    "import smart_analysis\n",
    "from matplotlib import pyplot as plt\n",
    "import numpy as np\n",
    "import matplotlib\n",
    "params = {'axes.labelsize': 12,\n",
    "            'axes.titlesize': 6,\n",
    "            'legend.fontsize': 10,\n",
    "            'xtick.labelsize':10,\n",
    "            'ytick.labelsize': 10,\n",
    "            'figure.figsize': (6,4),\n",
    "            'pdf.fonttype': 42,\n",
    "            'ps.fonttype': 42,\n",
    "            'axes.spines.top': False,\n",
    "            'axes.spines.right': False,\n",
    "            'legend.loc': \"right\"}\n",
    "matplotlib.rcParams.update(params)"
   ]
  },
  {
   "cell_type": "code",
   "execution_count": null,
   "metadata": {},
   "outputs": [],
   "source": [
    "cur_dir = \"/root/shared/gitrepos/smart-comp-sci/ca2+-examples\"\n",
    "if \"npy-files\" not in os.listdir(cur_dir):\n",
    "    spine_results_folder = \"/root/scratch/smart-comp-sci-data/dendritic_spine/results1\"\n",
    "    spine_mesh = \"/root/scratch/smart-comp-sci-data/dendritic_spine/mesh/1spine.h5\"\n",
    "    cru_results_folder = \"/root/scratch/smart-comp-sci-data/cru_results_massconserv/results_cru_fullmodel\"\n",
    "    cru_mesh = \"/root/scratch/smart-comp-sci-data/cru_results_massconserv/cru_mesh/cru_mesh.h5\"\n",
    "    results_folders = [spine_results_folder, spine_results_folder, spine_results_folder, spine_results_folder,\n",
    "                       cru_results_folder, cru_results_folder, cru_results_folder]\n",
    "    mesh_files = [spine_mesh, spine_mesh, spine_mesh, spine_mesh, cru_mesh, cru_mesh, cru_mesh]\n",
    "    tests = [\"spine-all\", \"spine-head\", \"spine-neck\", \"spine-shaft\",\n",
    "              \"cru-all\", \"cru-center\", \"cru-edge\"]\n",
    "    spine_head = [-1000,-1000,0.2,1000,1000,1000]\n",
    "    spine_neck = [0, -1000, -0.4, 1000, 1000, 0.2]\n",
    "    spine_shaft = [-1000,-1000,-1000,1000,1000,-0.4]\n",
    "    cru_center = [-200,-100,-150,200,150,300]\n",
    "    cru_edge = [-1000, -1000, -1000, -600, 1000, 1000]\n",
    "    domains = [[], spine_head, spine_neck, spine_shaft, [], cru_center, cru_edge]\n",
    "    for i in range(len(tests)):\n",
    "        results_folder = results_folders[i]\n",
    "        npy_dir = pathlib.Path(f\"/root/shared/gitrepos/smart-comp-sci/ca2+-examples/npy-files\")\n",
    "        npy_dir.mkdir(exist_ok=True)\n",
    "        mesh_file = mesh_files[i]\n",
    "\n",
    "        tVec, results_all = smart_analysis.analyze_all(\n",
    "            mesh_file=mesh_file, results_path=results_folder, display=False,\n",
    "            subdomain=domains[i])\n",
    "        results_all.insert(0, tVec) # add time as first element in list\n",
    "        max_length = len(tVec)\n",
    "        for j in range(len(results_all)):\n",
    "            if len(results_all[j]) > max_length:\n",
    "                max_length = len(results_all[j])\n",
    "        for j in range(len(results_all)):\n",
    "            num_zeros = max_length - len(results_all[j])\n",
    "            for k in range(num_zeros):\n",
    "                results_all[j].append(0)\n",
    "        np.save(npy_dir / f\"{tests[i]}-results.npy\", results_all)"
   ]
  },
  {
   "cell_type": "code",
   "execution_count": null,
   "metadata": {},
   "outputs": [],
   "source": [
    "spine_vars = [\"Bf\", \"Bm\", \"Ca\", \"CaSA\", \"NMDAR\"]\n",
    "cru_vars = [\"ATP\", \"Ca\", \"CaSR\", \"CMDN\", \"CSQN\", \"TRPN\"]\n",
    "\n",
    "f, (ax1, ax2) = plt.subplots(2, 1, sharex=True)\n",
    "plot_spine1 = \"Ca\"\n",
    "results_spine = np.load(f\"{cur_dir}/npy-files/spine-shaft-results.npy\")\n",
    "spine_idx1 = spine_vars.index(plot_spine1) + 1\n",
    "ax1.plot(results_spine[0], results_spine[spine_idx1],label=\"Dendritic spine\")\n",
    "ax1.set_ylim([0, 5])\n",
    "# ax1.legend()\n",
    "ax1.set_ylabel(\"Calcium (μM)\")\n",
    "\n",
    "plot_spine2 = \"CaSA\"\n",
    "spine_idx2 = spine_vars.index(plot_spine2) + 1\n",
    "ax2.plot(results_spine[0], results_spine[spine_idx2],'r',label=\"Dendritic spine\")\n",
    "# ax2.legend()\n",
    "ax2.set_ylabel(\"SA calcium (μM)\")\n",
    "ax2.set_ylim([60, 69])\n",
    "ax2.set_xlabel(\"Time (s)\")"
   ]
  },
  {
   "cell_type": "code",
   "execution_count": null,
   "metadata": {},
   "outputs": [],
   "source": [
    "plot_cru = \"Ca\"\n",
    "f, (ax1, ax2) = plt.subplots(2, 1, sharex=False)\n",
    "plot_cru1 = \"Ca\"\n",
    "results_cru = np.load(f\"{cur_dir}/npy-files/cru-edge-results.npy\")\n",
    "cru_idx1 = cru_vars.index(plot_cru1) + 1\n",
    "ax1.plot(results_cru[0], results_cru[cru_idx1],label=\"CRU\")\n",
    "ax1.set_ylim([0, 3.2])\n",
    "# ax1.legend()\n",
    "ax1.set_ylabel(\"Calcium (μM)\")\n",
    "ax1.set_xlabel(\"Time (s)\")\n",
    "\n",
    "plot_cru2 = \"CaSR\"\n",
    "cru_idx2 = cru_vars.index(plot_cru2) + 1\n",
    "ax2.plot(results_cru[0], results_cru[cru_idx2],'r',label=\"CRU\")\n",
    "# ax2.legend()\n",
    "ax2.set_ylabel(\"SR calcium (μM)\")\n",
    "ax2.set_ylim([0, 1400])\n",
    "ax2.set_xlabel(\"Time (s)\")"
   ]
  }
 ],
 "metadata": {
  "kernelspec": {
   "display_name": "Python 3",
   "language": "python",
   "name": "python3"
  },
  "language_info": {
   "codemirror_mode": {
    "name": "ipython",
    "version": 3
   },
   "file_extension": ".py",
   "mimetype": "text/x-python",
   "name": "python",
   "nbconvert_exporter": "python",
   "pygments_lexer": "ipython3",
   "version": "3.10.12"
  }
 },
 "nbformat": 4,
 "nbformat_minor": 2
}
