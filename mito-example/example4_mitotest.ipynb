{
 "cells": [
  {
   "attachments": {},
   "cell_type": "markdown",
   "id": "f65f18d7",
   "metadata": {},
   "source": [
    "# Example 4: Reaction-diffusion of second messenger in 3D\n",
    "\n",
    "Here, we implement the model presented in [Cugno et al 2019, Scientific Reports](https://www.nature.com/articles/s41598-019-48028-0), in which a second messenger (we assume calcium here) enters through the plasma membrane and is released from the endoplasmic reticulum (ER) into the main cell volume (cytosol).\n",
    "\n",
    "The geometry in this model is divided into 4 domains - two volumes and two surfaces:\n",
    "- plasma membrane (PM)\n",
    "- Cytosol\n",
    "- ER membrane\n",
    "- ER lumen (volume inside the ER)\n",
    "\n",
    "This model has a single species, $\\text{Ca}^{2+}$, with prescribed time-dependent fluxes at the PM and the ERM.\n",
    "\n",
    "There are three reactions:\n",
    "- $\\text{Ca}^{2+}$ influx at the PM (rate $j_{PM}$)\n",
    "- $\\text{Ca}^{2+}$ removal in the cytosol (e.g. via buffering, rate is $1/\\tau$)\n",
    "- $\\text{Ca}^{2+}$ flux into the ER (rate $j_{ER}$)  \n",
    "\n",
    "The PDE to solve (with associated boundary conditions) is given by:\n",
    "\n",
    "$$\n",
    "\\frac{\\partial{C}}{\\partial{t}} + \\frac{1}{\\tau} C = D_C \\nabla^2 C \\quad \\text{in} \\; \\Omega_{Cyto}\\\\\n",
    "D_C \\nabla C \\cdot \\textbf{n} = j_{PM} \\quad \\text{on} \\; \\Gamma_{PM}\\\\\n",
    "D_C \\nabla C \\cdot \\textbf{n} = j_{ER} \\quad \\text{in} \\; \\Gamma_{ERM}\\\\\n",
    "$$\n",
    "\n",
    "Note that because this example features a more refined mesh, it could take several minutes to run locally."
   ]
  },
  {
   "cell_type": "code",
   "execution_count": 1,
   "id": "cc398816",
   "metadata": {},
   "outputs": [],
   "source": [
    "import dolfin as d\n",
    "import sympy as sym\n",
    "import numpy as np\n",
    "import pathlib\n",
    "import logging\n",
    "import gmsh  # must be imported before pyvista if dolfin is imported first\n",
    "\n",
    "from smart import config, mesh, model, mesh_tools, visualization\n",
    "from smart.units import unit\n",
    "from smart.model_assembly import (\n",
    "    Compartment,\n",
    "    Parameter,\n",
    "    Reaction,\n",
    "    Species,\n",
    "    SpeciesContainer,\n",
    "    ParameterContainer,\n",
    "    CompartmentContainer,\n",
    "    ReactionContainer,\n",
    ")\n",
    "\n",
    "from matplotlib import pyplot as plt\n",
    "import matplotlib.image as mpimg\n",
    "from matplotlib import rcParams\n",
    "\n",
    "logger = logging.getLogger(\"smart\")\n",
    "logger.setLevel(logging.INFO)"
   ]
  },
  {
   "attachments": {},
   "cell_type": "markdown",
   "id": "95b9d865",
   "metadata": {},
   "source": [
    "First, we define the various units for the inputs"
   ]
  },
  {
   "cell_type": "code",
   "execution_count": 2,
   "id": "4f4023cf",
   "metadata": {},
   "outputs": [],
   "source": [
    "# Aliases - base units\n",
    "uM = unit.uM\n",
    "um = unit.um\n",
    "molecule = unit.molecule\n",
    "sec = unit.sec\n",
    "dimensionless = unit.dimensionless\n",
    "# Aliases - units used in model\n",
    "D_unit = um**2 / sec\n",
    "flux_unit = uM * um / sec\n",
    "vol_unit = uM\n",
    "surf_unit = molecule / um**2"
   ]
  },
  {
   "attachments": {},
   "cell_type": "markdown",
   "id": "46582d26",
   "metadata": {},
   "source": [
    "## Model generation\n",
    "\n",
    "For each step of model generation, refer to Example 3 or API documentation for further details.\n",
    "\n",
    "We first define compartments and the compartment container. Note that we can specify nonadjacency for surfaces in the model, which is not required, but can speed up the solution process."
   ]
  },
  {
   "cell_type": "code",
   "execution_count": 3,
   "id": "02a000f2",
   "metadata": {},
   "outputs": [],
   "source": [
    "Cyto = Compartment(\"Cyto\", 3, um, 3)\n",
    "PM = Compartment(\"PM\", 2, um, 10)\n",
    "ER = Compartment(\"ER\", 3, um, 1)\n",
    "ERm = Compartment(\"ERm\", 2, um, 12)\n",
    "PM.specify_nonadjacency(['ERm', 'ER'])\n",
    "ERm.specify_nonadjacency(['PM'])\n",
    "\n",
    "cc = CompartmentContainer()\n",
    "cc.add([Cyto, PM, ER, ERm])"
   ]
  },
  {
   "attachments": {},
   "cell_type": "markdown",
   "id": "f9121840",
   "metadata": {},
   "source": [
    "Define species (just calcium here) and place in species container."
   ]
  },
  {
   "cell_type": "code",
   "execution_count": 4,
   "id": "09079b17",
   "metadata": {},
   "outputs": [],
   "source": [
    "Ca = Species(\"Ca\", 0.05, vol_unit, 10.0, D_unit, \"Cyto\")\n",
    "sc = SpeciesContainer()\n",
    "sc.add([Ca])"
   ]
  },
  {
   "attachments": {},
   "cell_type": "markdown",
   "id": "3c56e840",
   "metadata": {},
   "source": [
    "Define parameters and reactions, then place in respective containers. Here, there are 3 reactions:\n",
    "* r1: influx of calcium through the PM\n",
    "* r2: calcium flux out of the ER\n",
    "* r3: consumption of calcium in the cytosol (e.g., buffering)\n",
    "\n",
    "Calcium entry at the PM and release from the ER are dictated by time-dependent activation functions:\n",
    "\n",
    "$$\n",
    "j_{PM} = \\gamma (e^{-t/\\alpha} - e^{-t/\\beta})\\\\\n",
    "j_{ER} = \\zeta \\gamma (e^{-(t-t_{ER})/\\alpha} - e^{-(t-t_{ER})/\\beta}) H(t-t_{ER})\n",
    "$$\n",
    "\n",
    "where $H(x)$ is the Heaviside step function (approximated numerically below by a steep sigmoid).\n",
    "\n",
    "These time-dependent functions are specified as parameters by calling:\n",
    "```\n",
    "        param_var = Parameter.from_expression(\n",
    "            name, sym_expr, unit, preint_sym_expr (opt), group (opt),\n",
    "            notes (opt), use_preintegration (opt)\n",
    "        )\n",
    "```\n",
    "where:\n",
    "* name: string naming the parameter\n",
    "* sym_expr: string specifying an expression, \"t\" should be the only free variable\n",
    "* unit: units associated with given value\n",
    "* preint_sym_expr (opt): string giving the integral of the expression; if not given\n",
    "                            and use_preintegration is true, then sympy tries to integrate\n",
    "                            using sympy.integrate()\n",
    "* group (opt): optional string placing this reaction in a reaction group; for organizational purposes when there are multiple reaction modules\n",
    "* notes (optional): string related to this parameter\n",
    "* use_preintegration (optional): use preintegration in solution process if\n",
    "                                     \"use_preintegration\" is true (defaults to false)"
   ]
  },
  {
   "cell_type": "code",
   "execution_count": 5,
   "id": "2e1f6882",
   "metadata": {},
   "outputs": [],
   "source": [
    "# Ca2+ influx at membrane\n",
    "gamma, alpha, beta = 1140.0, .0025, .002\n",
    "t = sym.symbols(\"t\")\n",
    "pulsePM = gamma*(sym.exp(-t/alpha) - sym.exp(-t/beta))\n",
    "pulsePM_I = gamma*(-alpha*sym.exp(-t/alpha) + beta*sym.exp(-t/beta))  # integral for preintegration\n",
    "j1pulse = Parameter.from_expression(\n",
    "    \"j1pulse\", pulsePM, flux_unit, use_preintegration=False, preint_sym_expr=pulsePM_I\n",
    ")\n",
    "r1 = Reaction(\n",
    "    \"r1\",\n",
    "    [],\n",
    "    [\"Ca\"],\n",
    "    param_map={\"J\": \"j1pulse\"},\n",
    "    eqn_f_str=\"J\",\n",
    "    explicit_restriction_to_domain=\"PM\",\n",
    ")\n",
    "# Ca2+ flux out of the ER\n",
    "zeta, tER = 0.2, .02\n",
    "def estep(t, t0, m): return 1 / (1+sym.exp(m*(t0-t)))\n",
    "\n",
    "\n",
    "pulseER = zeta*gamma*estep(t, tER, 20000)*(sym.exp(-(t-tER)/alpha) - sym.exp(-(t-tER)/beta))\n",
    "j2pulse = Parameter.from_expression(\n",
    "    \"j2pulse\", pulseER, flux_unit, use_preintegration=False\n",
    ")\n",
    "r2 = Reaction(\n",
    "    \"r2\",\n",
    "    [],\n",
    "    [\"Ca\"],\n",
    "    param_map={\"J\": \"j2pulse\"},\n",
    "    eqn_f_str=\"J\",\n",
    "    explicit_restriction_to_domain=\"ERm\",\n",
    ")\n",
    "# consumption of Ca in the cytosol\n",
    "tau = Parameter(\"tau\", 0.05, sec)\n",
    "r3 = Reaction(\"r3\", [\"Ca\"], [], param_map={\"tau\": \"tau\"},\n",
    "              eqn_f_str=\"Ca/tau\", species_map={\"Ca\": \"Ca\"})\n",
    "\n",
    "pc = ParameterContainer()\n",
    "pc.add([j1pulse, j2pulse, tau])\n",
    "# pc.add([tau])\n",
    "rc = ReactionContainer()\n",
    "rc.add([r1, r2, r3])\n",
    "# rc.add([r3])"
   ]
  },
  {
   "attachments": {},
   "cell_type": "markdown",
   "id": "901cc4f9",
   "metadata": {},
   "source": [
    "We can plot the time-dependent stimulus from r1 and r2 using lambdify."
   ]
  },
  {
   "cell_type": "code",
   "execution_count": 6,
   "id": "e7aa0975",
   "metadata": {},
   "outputs": [
    {
     "data": {
      "text/plain": [
       "[Text(0.5, 0, 'Time (s)'), Text(0, 0.5, 'ER calcium flux (μM-μm/s)')]"
      ]
     },
     "execution_count": 6,
     "metadata": {},
     "output_type": "execute_result"
    },
    {
     "data": {
      "image/png": "[encoded data removed]",
      "text/plain": [
       "<Figure size 1000x600 with 2 Axes>"
      ]
     },
     "metadata": {},
     "output_type": "display_data"
    }
   ],
   "source": [
    "from sympy.utilities.lambdify import lambdify\n",
    "pulsePM_func = lambdify(t, pulsePM, 'numpy')  # returns a numpy-ready function\n",
    "pulseER_func = lambdify(t, pulseER, 'numpy')\n",
    "tArray = np.linspace(0, 0.1, 500)\n",
    "fig, ax = plt.subplots(2, 1)\n",
    "fig.set_size_inches(10, 6)\n",
    "ax[0].plot(tArray, pulsePM_func(tArray))\n",
    "ax[0].set(xlabel='Time (s)',\n",
    "          ylabel='PM calcium flux (μM-μm/s)')\n",
    "ax[1].plot(tArray, pulseER_func(tArray))\n",
    "ax[1].set(xlabel='Time (s)',\n",
    "          ylabel='ER calcium flux (μM-μm/s)')"
   ]
  },
  {
   "attachments": {},
   "cell_type": "markdown",
   "id": "15c35d39",
   "metadata": {},
   "source": [
    "## Create and load in mesh\n",
    "\n",
    "Here, we consider an \"ellipsoid-in-an-ellipsoid\" geometry. The inner ellipsoid represents the ER and the volume between the ER boundary and the boundary of the outer ellipsoid represents the cytosol."
   ]
  },
  {
   "cell_type": "code",
   "execution_count": 7,
   "id": "fe56e162",
   "metadata": {},
   "outputs": [
    {
     "name": "stderr",
     "output_type": "stream",
     "text": [
      "\u001b[36m\u001b[0m \u001b[97m2023-10-28 00:34:52,920 smart.mesh - INFO - HDF5 mesh, \"parent_mesh\", successfully loaded from file: mesh/mito1.h5! (mesh.py:220)\u001b[0m \u001b[36m\u001b[0m\n",
      "ROOT -2023-10-28 00:34:57,242 root - INFO - awaiting runner setup (__init__.py:101)\n",
      "ROOT -2023-10-28 00:34:57,243 root - INFO - awaiting site startup (__init__.py:108)\n",
      "ROOT -2023-10-28 00:34:57,244 root - INFO - Print WSLINK_READY_MSG (__init__.py:114)\n",
      "ROOT -2023-10-28 00:34:57,244 root - INFO - Schedule auto shutdown with timout 0 (__init__.py:122)\n",
      "ROOT -2023-10-28 00:34:57,245 root - INFO - awaiting running future (__init__.py:125)\n"
     ]
    },
    {
     "data": {
      "application/vnd.jupyter.widget-view+json": {
       "model_id": "1c7a79048e214e3ea36c187dce3c77e1",
       "version_major": 2,
       "version_minor": 0
      },
      "text/plain": [
       "Widget(value=\"<iframe src='http://localhost:45669/index.html?ui=P_0x7f1b462821d0_0&reconnect=auto' style='widt…"
      ]
     },
     "metadata": {},
     "output_type": "display_data"
    }
   ],
   "source": [
    "# curRadius = 0.25  # dendritic spine radius\n",
    "# domain, facet_markers, cell_markers = mesh_tools.create_ellipsoids((1.25*curRadius, 0.8*curRadius, curRadius),\n",
    "#                                                                    (1.25*curRadius/2, 0.8 *\n",
    "#                                                                     curRadius/2, curRadius/2),\n",
    "#                                                                    hEdge=0.01)\n",
    "cur_dir = pathlib.Path.cwd()\n",
    "parent_dir = cur_dir.parent\n",
    "mito_mesh = d.Mesh(f\"{str(parent_dir)}/meshes/mito1_mesh.xml\")\n",
    "cell_markers = d.MeshFunction(\"size_t\", mito_mesh, 3, mito_mesh.domains())\n",
    "facet_markers_orig = d.MeshFunction(\"size_t\", mito_mesh, 2, mito_mesh.domains())\n",
    "facet_markers = d.MeshFunction(\"size_t\", mito_mesh, 2, mito_mesh.domains())\n",
    "facet_array = facet_markers.array()[:]\n",
    "for i in range(len(facet_array)):\n",
    "    if facet_array[i] == 11: # this indicates cristae\n",
    "        facet_array[i] = 12 # consider cristae the same as inner membrane for now\n",
    "    elif facet_array[i] == 0:\n",
    "        facet_array[i] = 10\n",
    "    elif facet_array[i] > 1e9:\n",
    "        facet_array[i] = 0\n",
    "# facet_markers.array()[np.where(facet_markers.array() > 1e9)[0]] = 0 # set unassigned facets to 0\n",
    "\n",
    "# Write mesh and meshfunctions to file\n",
    "mesh_folder = pathlib.Path(\"mesh\")\n",
    "mesh_folder.mkdir(exist_ok=True)\n",
    "mesh_path = mesh_folder / \"mito1.h5\"\n",
    "mesh_tools.write_mesh(\n",
    "    mito_mesh, facet_markers, cell_markers, filename=mesh_path\n",
    ")\n",
    "parent_mesh = mesh.ParentMesh(\n",
    "    mesh_filename=str(mesh_path),\n",
    "    mesh_filetype=\"hdf5\",\n",
    "    name=\"parent_mesh\",\n",
    ")\n",
    "visualization.plot_dolfin_mesh(mito_mesh, cell_markers, facet_markers, clip_logic=False)"
   ]
  },
  {
   "attachments": {},
   "cell_type": "markdown",
   "id": "0943588e",
   "metadata": {},
   "source": [
    "Initialize model and solver."
   ]
  },
  {
   "cell_type": "code",
   "execution_count": 8,
   "id": "ac88bdec",
   "metadata": {},
   "outputs": [
    {
     "name": "stderr",
     "output_type": "stream",
     "text": [
      "\u001b[97m\u001b[0m \u001b[31m2023-10-28 00:35:13,136 smart.model - INFO - Compartment(s), {'ER'}, are unused in any reactions. (model.py:594)\u001b[0m \u001b[97m\u001b[0m\n",
      "\u001b[97m\u001b[0m \u001b[31m2023-10-28 00:35:13,137 smart.model - INFO - Removing unused compartment(s) from model! (model.py:595)\u001b[0m \u001b[97m\u001b[0m\n",
      "/usr/lib/python3/dist-packages/scipy/__init__.py:146: UserWarning: A NumPy version >=1.17.3 and <1.25.0 is required for this version of SciPy (detected version 1.26.1\n",
      "  warnings.warn(f\"A NumPy version >={np_minversion} and <{np_maxversion}\"\n",
      "\u001b[36m\u001b[0m \u001b[97m2023-10-28 00:35:16,957 smart.solvers - INFO - Jpetsc_nest assembled, size = (25598, 25598) (solvers.py:193)\u001b[0m \u001b[36m\u001b[0m\n",
      "\n",
      "\u001b[36m\u001b[0m \u001b[35m2023-10-28 00:35:16,958 smart.solvers - INFO - Initializing block residual vector (solvers.py:200)\u001b[0m \u001b[36m\u001b[0m\n",
      "\u001b[36m\u001b[0m \u001b[97m2023-10-28 00:35:17,033 smart.model_assembly - INFO - \n",
      "╒═════════╤════════════════════╤═════════════════════╤════════════════════════════════════════════════════════════════════════════════════════════════════════════════════╤═════════╤═════════╕\n",
      "│         │ quantity           │ is_time_dependent   │ sym_expr                                                                                                           │ notes   │ group   │\n",
      "╞═════════╪════════════════════╪═════════════════════╪════════════════════════════════════════════════════════════════════════════════════════════════════════════════════╪═════════╪═════════╡\n",
      "│ j1pulse │ 0.00×10⁰ µM·µm/s   │ True                │ -1140.0*exp(-500.0*t) + 1140.0*exp(-400.0*t)                                                                       │         │         │\n",
      "├─────────┼────────────────────┼─────────────────────┼────────────────────────────────────────────────────────────────────────────────────────────────────────────────────┼─────────┼─────────┤\n",
      "│ j2pulse │ -8.32e-168 µM·µm/s │ True                │ 228.0*(-22026.4657948067*exp(-500.0*t) + 2980.95798704173*exp(-400.0*t))/(1 + 5.22146968976414e+173*exp(-20000*t)) │         │         │\n",
      "├─────────┼────────────────────┼─────────────────────┼────────────────────────────────────────────────────────────────────────────────────────────────────────────────────┼─────────┼─────────┤\n",
      "│ tau     │ 5.00×10⁻² s        │ False               │                                                                                                                    │         │         │\n",
      "╘═════════╧════════════════════╧═════════════════════╧════════════════════════════════════════════════════════════════════════════════════════════════════════════════════╧═════════╧═════════╛\n",
      " (model_assembly.py:308)\u001b[0m \u001b[36m\u001b[0m\n",
      "\u001b[36m\u001b[0m \u001b[97m2023-10-28 00:35:17,036 smart.model_assembly - INFO - \n",
      "╒════╤════════════════════╤═════════════╤════════════════╕\n",
      "│    │ compartment_name   │   dof_index │ Diffusion      │\n",
      "╞════╪════════════════════╪═════════════╪════════════════╡\n",
      "│ Ca │ Cyto               │           0 │ 1.00×10¹ µm²/s │\n",
      "╘════╧════════════════════╧═════════════╧════════════════╛\n",
      " (model_assembly.py:308)\u001b[0m \u001b[36m\u001b[0m\n",
      "\u001b[36m\u001b[0m \u001b[97m2023-10-28 00:35:17,050 smart.model_assembly - INFO - \n",
      "╒══════╤═══════════╤══════════════════╤═══════════════╤════════════════╤════════════╤══════════════════╤═════════════╤═══════════════╤═══════════════╕\n",
      "│      │   mesh_id │   dimensionality │   num_species │   num_vertices │   num_dofs │   num_dofs_local │   num_cells │   cell_marker │ nvolume       │\n",
      "╞══════╪═══════════╪══════════════════╪═══════════════╪════════════════╪════════════╪══════════════════╪═════════════╪═══════════════╪═══════════════╡\n",
      "│ Cyto │        33 │                3 │             1 │          25598 │      25598 │            25598 │       87719 │             3 │ 2.04×10⁻² µm³ │\n",
      "├──────┼───────────┼──────────────────┼───────────────┼────────────────┼────────────┼──────────────────┼─────────────┼───────────────┼───────────────┤\n",
      "│ PM   │        39 │                2 │             0 │           2884 │          0 │                0 │        5758 │            10 │ 6.34×10⁻¹ µm² │\n",
      "├──────┼───────────┼──────────────────┼───────────────┼────────────────┼────────────┼──────────────────┼─────────────┼───────────────┼───────────────┤\n",
      "│ ERm  │        45 │                2 │             0 │          18708 │          0 │                0 │       37598 │            12 │ 1.55×10⁰ µm²  │\n",
      "╘══════╧═══════════╧══════════════════╧═══════════════╧════════════════╧════════════╧══════════════════╧═════════════╧═══════════════╧═══════════════╛\n",
      " (model_assembly.py:308)\u001b[0m \u001b[36m\u001b[0m\n",
      "\u001b[36m\u001b[0m \u001b[97m2023-10-28 00:35:17,055 smart.model_assembly - INFO - \n",
      "╒════╤════════╤════════╤═════════════╤═════════════╕\n",
      "│    │ lhs    │ rhs    │ eqn_f_str   │ eqn_r_str   │\n",
      "╞════╪════════╪════════╪═════════════╪═════════════╡\n",
      "│ r1 │ []     │ ['Ca'] │ j1pulse     │             │\n",
      "├────┼────────┼────────┼─────────────┼─────────────┤\n",
      "│ r2 │ []     │ ['Ca'] │ j2pulse     │             │\n",
      "├────┼────────┼────────┼─────────────┼─────────────┤\n",
      "│ r3 │ ['Ca'] │ []     │ Ca/tau      │             │\n",
      "╘════╧════════╧════════╧═════════════╧═════════════╛\n",
      " (model_assembly.py:308)\u001b[0m \u001b[36m\u001b[0m\n"
     ]
    },
    {
     "name": "stdout",
     "output_type": "stream",
     "text": [
      "╒════╤═════════════╤══════╤══════════════════╤═════════════╤══════════════╤════════════════╕\n",
      "│    │ name        │   id │   dimensionality │   num_cells │   num_facets │   num_vertices │\n",
      "╞════╪═════════════╪══════╪══════════════════╪═════════════╪══════════════╪════════════════╡\n",
      "│  0 │ parent_mesh │    9 │                3 │      173616 │       350110 │          29885 │\n",
      "├────┼─────────────┼──────┼──────────────────┼─────────────┼──────────────┼────────────────┤\n",
      "│  1 │ Cyto        │   33 │                3 │       87719 │       197116 │          25598 │\n",
      "├────┼─────────────┼──────┼──────────────────┼─────────────┼──────────────┼────────────────┤\n",
      "│  2 │ PM          │   39 │                2 │        5758 │            0 │           2884 │\n",
      "├────┼─────────────┼──────┼──────────────────┼─────────────┼──────────────┼────────────────┤\n",
      "│  3 │ ERm         │   45 │                2 │       37598 │            0 │          18708 │\n",
      "╘════╧═════════════╧══════╧══════════════════╧═════════════╧══════════════╧════════════════╛\n"
     ]
    }
   ],
   "source": [
    "config_cur = config.Config()\n",
    "config_cur.flags.update({\"allow_unused_components\": True})\n",
    "model_cur = model.Model(pc, sc, cc, rc, config_cur, parent_mesh)\n",
    "config_cur.solver.update(\n",
    "    {\n",
    "        \"final_t\": 0.1,\n",
    "        \"initial_dt\": 0.001,\n",
    "        \"time_precision\": 6,\n",
    "    }\n",
    ")\n",
    "model_cur.initialize()"
   ]
  },
  {
   "attachments": {},
   "cell_type": "markdown",
   "id": "5d5aacbd",
   "metadata": {},
   "source": [
    "Initialize XDMF files for saving results, save model information to .pkl file, then solve the system until `model_cur.t > model_cur.final_t`"
   ]
  },
  {
   "cell_type": "code",
   "execution_count": 9,
   "id": "b54d28ca",
   "metadata": {},
   "outputs": [
    {
     "name": "stderr",
     "output_type": "stream",
     "text": [
      "ROOT -2023-10-28 00:35:17,063 aiohttp.access - INFO - 127.0.0.1 [28/Oct/2023:00:35:17 +0000] \"GET /index.html?ui=P_0x7f1b462821d0_0&reconnect=auto HTTP/1.1\" 200 236 \"-\" \"Mozilla/5.0 (Windows NT 10.0; Win64; x64) AppleWebKit/537.36 (KHTML, like Gecko) Code/1.83.1 Chrome/114.0.5735.289 Electron/25.8.4 Safari/537.36\" (web_log.py:206)\n"
     ]
    }
   ],
   "source": [
    "# Write initial condition(s) to file\n",
    "results = dict()\n",
    "result_folder = pathlib.Path(f\"results\")\n",
    "result_folder.mkdir(exist_ok=True)\n",
    "for species_name, species in model_cur.sc.items:\n",
    "    results[species_name] = d.XDMFFile(\n",
    "        model_cur.mpi_comm_world, str(result_folder / f\"{species_name}.xdmf\")\n",
    "    )\n",
    "    results[species_name].parameters[\"flush_output\"] = True\n",
    "    results[species_name].write(model_cur.sc[species_name].u[\"u\"], model_cur.t)\n",
    "model_cur.to_pickle(\"model_cur.pkl\")\n",
    "\n",
    "# Set loglevel to warning in order not to pollute notebook output\n",
    "logger.setLevel(logging.WARNING)\n",
    "\n",
    "concVec = np.array([.05])\n",
    "cytoMesh = model_cur.cc['Cyto'].dolfin_mesh\n",
    "# integrateDomain = d.MeshFunction(\"size_t\", cytoMesh, 3, 0)\n",
    "# RTarget = (curRadius + curRadius/2) / 2\n",
    "# for c in d.cells(cytoMesh):\n",
    "#     RCur = np.sqrt(c.midpoint().x()**2 + c.midpoint().y()**2 + c.midpoint().z()**2)\n",
    "#     integrateDomain[c] = 1 if (RCur > RTarget-.1*curRadius and RCur <\n",
    "#                                 RTarget + .1*curRadius) else 0\n",
    "dx = d.Measure(\"dx\", domain=cytoMesh)\n",
    "volume = d.assemble(1.0*dx)\n",
    "# Solve\n",
    "displayed = False\n",
    "while True:\n",
    "    # Solve the system\n",
    "    model_cur.monolithic_solve()\n",
    "    # Save results for post processing\n",
    "    for species_name, species in model_cur.sc.items:\n",
    "        results[species_name].write(model_cur.sc[species_name].u[\"u\"], model_cur.t)\n",
    "    # save mean value at r = (curRadius + curRadius/2)/2 (for comparison to Cugno graph below)\n",
    "    int_val = d.assemble(model_cur.sc['Ca'].u['u']*dx)\n",
    "    curConc = np.array([int_val / volume])\n",
    "    concVec = np.concatenate((concVec, curConc))\n",
    "    np.savetxt(result_folder / f\"tvec.txt\", np.array(model_cur.tvec).astype(np.float32))\n",
    "    # if model_cur.t > .025 and not displayed:  # display first time after .025 s\n",
    "    #     visualization.plot(model_cur.sc['Ca'].u['u'])\n",
    "    #     displayed = True\n",
    "    # End if we've passed the final time\n",
    "    if model_cur.t >= model_cur.final_t:\n",
    "        break"
   ]
  },
  {
   "attachments": {},
   "cell_type": "markdown",
   "id": "ead460cb",
   "metadata": {},
   "source": [
    "Plot concentration over time."
   ]
  },
  {
   "cell_type": "code",
   "execution_count": 10,
   "id": "7d17ded6",
   "metadata": {},
   "outputs": [
    {
     "name": "stderr",
     "output_type": "stream",
     "text": [
      "ROOT -2023-10-28 00:34:32,510 root - INFO - client 425a8fa4b38f480fac17c33aa17728d7 disconnected (__init__.py:220)\n",
      "ROOT -2023-10-28 00:34:32,511 root - INFO - No more connections, scheduling shutdown (__init__.py:223)\n",
      "ROOT -2023-10-28 00:34:32,511 aiohttp.access - INFO - 127.0.0.1 [28/Oct/2023:00:30:44 +0000] \"GET /ws HTTP/1.1\" 101 0 \"-\" \"Mozilla/5.0 (Windows NT 10.0; Win64; x64) AppleWebKit/537.36 (KHTML, like Gecko) Code/1.83.1 Chrome/114.0.5735.289 Electron/25.8.4 Safari/537.36\" (web_log.py:206)\n"
     ]
    },
    {
     "name": "stderr",
     "output_type": "stream",
     "text": [
      "ROOT -2023-10-28 00:36:29,670 aiohttp.access - INFO - 127.0.0.1 [28/Oct/2023:00:36:29 +0000] \"GET /js/app.ec4d76f4.js HTTP/1.1\" 200 251 \"http://localhost:45669/index.html?ui=P_0x7f1b462821d0_0&reconnect=auto\" \"Mozilla/5.0 (Windows NT 10.0; Win64; x64) AppleWebKit/537.36 (KHTML, like Gecko) Code/1.83.1 Chrome/114.0.5735.289 Electron/25.8.4 Safari/537.36\" (web_log.py:206)\n"
     ]
    },
    {
     "data": {
      "text/plain": [
       "Text(0.5, 1.0, 'SMART simulation')"
      ]
     },
     "execution_count": 10,
     "metadata": {},
     "output_type": "execute_result"
    },
    {
     "data": {
      "image/png": "[encoded data removed]",
      "text/plain": [
       "<Figure size 640x480 with 1 Axes>"
      ]
     },
     "metadata": {},
     "output_type": "display_data"
    },
    {
     "name": "stderr",
     "output_type": "stream",
     "text": [
      "ROOT -2023-10-28 00:36:30,191 root - INFO - client a55400d458e7458b83fc45da1c0beca7 connected (__init__.py:205)\n",
      "ROOT -2023-10-28 00:36:30,214 aiohttp.access - INFO - 127.0.0.1 [28/Oct/2023:00:36:30 +0000] \"GET /__trame_vuetify/trame-vuetify.css HTTP/1.1\" 200 239 \"http://localhost:45669/index.html?ui=P_0x7f1b462821d0_0&reconnect=auto\" \"Mozilla/5.0 (Windows NT 10.0; Win64; x64) AppleWebKit/537.36 (KHTML, like Gecko) Code/1.83.1 Chrome/114.0.5735.289 Electron/25.8.4 Safari/537.36\" (web_log.py:206)\n",
      "ROOT -2023-10-28 00:36:30,234 aiohttp.access - INFO - 127.0.0.1 [28/Oct/2023:00:36:30 +0000] \"GET /__trame_vtk/trame-vtk.js HTTP/1.1\" 200 255 \"http://localhost:45669/index.html?ui=P_0x7f1b462821d0_0&reconnect=auto\" \"Mozilla/5.0 (Windows NT 10.0; Win64; x64) AppleWebKit/537.36 (KHTML, like Gecko) Code/1.83.1 Chrome/114.0.5735.289 Electron/25.8.4 Safari/537.36\" (web_log.py:206)\n",
      "ROOT -2023-10-28 00:36:30,236 aiohttp.access - INFO - 127.0.0.1 [28/Oct/2023:00:36:30 +0000] \"GET /__trame_vuetify/trame-vuetify.umd.min.js HTTP/1.1\" 200 253 \"http://localhost:45669/index.html?ui=P_0x7f1b462821d0_0&reconnect=auto\" \"Mozilla/5.0 (Windows NT 10.0; Win64; x64) AppleWebKit/537.36 (KHTML, like Gecko) Code/1.83.1 Chrome/114.0.5735.289 Electron/25.8.4 Safari/537.36\" (web_log.py:206)\n",
      "ROOT -2023-10-28 00:36:32,432 aiohttp.access - INFO - 127.0.0.1 [28/Oct/2023:00:36:30 +0000] \"GET /__trame_vuetify/fonts/materialdesignicons-webfont.68358e87.woff2 HTTP/1.1\" 200 241 \"http://localhost:45669/__trame_vuetify/trame-vuetify.css\" \"Mozilla/5.0 (Windows NT 10.0; Win64; x64) AppleWebKit/537.36 (KHTML, like Gecko) Code/1.83.1 Chrome/114.0.5735.289 Electron/25.8.4 Safari/537.36\" (web_log.py:206)\n"
     ]
    }
   ],
   "source": [
    "plt.plot(model_cur.tvec, concVec)\n",
    "plt.xlabel(\"Time (s)\")\n",
    "plt.ylabel(\"Calcium concentration (μM)\")\n",
    "plt.title(\"SMART simulation\")"
   ]
  }
 ],
 "metadata": {
  "jupytext": {
   "cell_metadata_filter": "-all",
   "main_language": "python",
   "notebook_metadata_filter": "-all"
  },
  "kernelspec": {
   "display_name": "Python 3",
   "language": "python",
   "name": "python3"
  },
  "language_info": {
   "codemirror_mode": {
    "name": "ipython",
    "version": 3
   },
   "file_extension": ".py",
   "mimetype": "text/x-python",
   "name": "python",
   "nbconvert_exporter": "python",
   "pygments_lexer": "ipython3",
   "version": "3.10.6"
  },
  "vscode": {
   "interpreter": {
    "hash": "916dbcbb3f70747c44a77c7bcd40155683ae19c65e1c03b4aa3499c5328201f1"
   }
  }
 },
 "nbformat": 4,
 "nbformat_minor": 5
}
