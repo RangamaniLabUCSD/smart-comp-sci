{
 "cells": [
  {
   "attachments": {},
   "cell_type": "markdown",
   "id": "f65f18d7",
   "metadata": {},
   "source": [
    "# ATP dynamics in realistic mitochondridal geometries\n",
    "\n",
    "Here, we implement the model presented in [Garcia et al, Scientific Reports](https://www.nature.com/articles/s41598-019-48028-0), which describes production of ATP in mitochondria.\n",
    "\n",
    "The geometry in this model is divided into 4 domains - two volumes and two surfaces:\n",
    "- outer mitochondrial membrane (OM)\n",
    "- intermembrane space (IMS)\n",
    "- Inner membrane (IM)\n",
    "- Matrix (MAT) (volume inside the mitochondrion)"
   ]
  },
  {
   "cell_type": "code",
   "execution_count": null,
   "id": "cc398816",
   "metadata": {},
   "outputs": [],
   "source": [
    "import dolfin as d\n",
    "import sympy as sym\n",
    "import numpy as np\n",
    "import pathlib\n",
    "import logging\n",
    "import gmsh  # must be imported before pyvista if dolfin is imported first\n",
    "\n",
    "from smart import config, mesh, model, mesh_tools, visualization\n",
    "from smart.units import unit\n",
    "from smart.model_assembly import (\n",
    "    Compartment,\n",
    "    Parameter,\n",
    "    Reaction,\n",
    "    Species,\n",
    "    SpeciesContainer,\n",
    "    ParameterContainer,\n",
    "    CompartmentContainer,\n",
    "    ReactionContainer,\n",
    ")\n",
    "\n",
    "from matplotlib import pyplot as plt\n",
    "import matplotlib.image as mpimg\n",
    "from matplotlib import rcParams\n",
    "\n",
    "logger = logging.getLogger(\"smart\")\n",
    "logger.setLevel(logging.INFO)"
   ]
  },
  {
   "attachments": {},
   "cell_type": "markdown",
   "id": "95b9d865",
   "metadata": {},
   "source": [
    "First, we define the various units for the inputs and define universal constants."
   ]
  },
  {
   "cell_type": "code",
   "execution_count": null,
   "id": "4f4023cf",
   "metadata": {},
   "outputs": [],
   "source": [
    "# Aliases - base units\n",
    "mM = unit.mM\n",
    "um = unit.um\n",
    "molecule = unit.molecule\n",
    "sec = unit.sec\n",
    "dimensionless = unit.dimensionless\n",
    "# Aliases - units used in model\n",
    "D_unit = um**2 / sec\n",
    "flux_unit = mM * um / sec\n",
    "vol_unit = mM\n",
    "surf_unit = molecule / um**2\n",
    "\n",
    "F = 9.649e4 # Faraday's constant (C/mol)\n",
    "R = 8.315 # gas constant (J/mol-K)"
   ]
  },
  {
   "attachments": {},
   "cell_type": "markdown",
   "id": "46582d26",
   "metadata": {},
   "source": [
    "## Model generation\n",
    "\n",
    "We first define compartments and the add them to a compartment container. Note that we can specify nonadjacency for surfaces in the model, which is not required, but can speed up the solution process."
   ]
  },
  {
   "cell_type": "code",
   "execution_count": null,
   "id": "02a000f2",
   "metadata": {},
   "outputs": [],
   "source": [
    "IMS = Compartment(\"IMS\", 3, um, 1)\n",
    "OM = Compartment(\"OM\", 2, um, 10)\n",
    "Matrix = Compartment(\"Matrix\", 3, um, 2)\n",
    "IM = Compartment(\"IM\", 2, um, 12)\n",
    "OM.specify_nonadjacency(['IM', 'Matrix'])\n",
    "IM.specify_nonadjacency(['OM'])\n",
    "\n",
    "cc = CompartmentContainer()\n",
    "cc.add([IMS, OM, Matrix, IM])"
   ]
  },
  {
   "attachments": {},
   "cell_type": "markdown",
   "id": "f9121840",
   "metadata": {},
   "source": [
    "Define all model species and and place in species container."
   ]
  },
  {
   "cell_type": "code",
   "execution_count": null,
   "id": "09079b17",
   "metadata": {},
   "outputs": [],
   "source": [
    "# ATP synthase states\n",
    "E_tot = Parameter(\"E_tot\", 267/1.545, surf_unit)\n",
    "E_Mat = Species(\"E_Mat\", 0.0, surf_unit, 0.0, D_unit, \"IM\")\n",
    "E_IMS = Species(\"E_IMS\", 1.0*E_tot.value, surf_unit, 0.0, D_unit, \"IM\")\n",
    "E_Mat_H3Star = Species(\"E_Mat_H3Star\", 0.0, surf_unit, 0.0, D_unit, \"IM\")\n",
    "E_Mat_H3S = Species(\"E_Mat_H3S\", 0.0, surf_unit, 0.0, D_unit, \"IM\")\n",
    "E_Mat_H3 = Species(\"E_Mat_H3\", 0.0, surf_unit, 0.0, D_unit, \"IM\")\n",
    "# ANT states\n",
    "L_tot = Parameter(\"L_tot\", 16471/1.545, surf_unit)\n",
    "L = Species(\"L\", 1.0*L_tot.value, surf_unit, 0.0, D_unit, \"IM\")\n",
    "TL = Species(\"TL\", 0.0, surf_unit, 0.0, D_unit, \"IM\")\n",
    "LT = Species(\"LT\", 0.0, surf_unit, 0.0, D_unit, \"IM\")\n",
    "DL = Species(\"DL\", 0.0, surf_unit, 0.0, D_unit, \"IM\")\n",
    "LD = Species(\"LD\", 0.0, surf_unit, 0.0, D_unit, \"IM\")\n",
    "TLD = Species(\"TLD\", 0.0, surf_unit, 0.0, D_unit, \"IM\")\n",
    "DLD = Species(\"DLD\", 0.0, surf_unit, 0.0, D_unit, \"IM\")\n",
    "DLDPrime = Species(\"DLDPrime\", 0.0, surf_unit, 0.0, D_unit, \"IM\")\n",
    "TLT = Species(\"TLT\", 0.0, surf_unit, 0.0, D_unit, \"IM\")\n",
    "TLTPrime = Species(\"TLTPrime\", 0.0, surf_unit, 0.0, D_unit, \"IM\")\n",
    "# ATP/ADP in matrix and IMS\n",
    "D_Mat = Species(\"D_Mat\", 0.8*2.0, vol_unit, 15.0, D_unit, \"Mat\")\n",
    "T_Mat = Species(\"T_Mat\", 13.0, vol_unit, 15.0, D_unit, \"Mat\")\n",
    "T_IMS = Species(\"T_IMS\", 6.5, vol_unit, 15.0, D_unit, \"IMS\")"
   ]
  },
  {
   "cell_type": "markdown",
   "metadata": {},
   "source": [
    "Define mitochondrial conditions (temperature, voltage, pH)"
   ]
  },
  {
   "cell_type": "code",
   "execution_count": null,
   "metadata": {},
   "outputs": [],
   "source": [
    "pH_Mat = 7.6 # matrix pH\n",
    "pH_c = 7.2 # cristae pH\n",
    "T = 310 # body temperature (K)\n",
    "dPsi = 180 # membrane voltage (mV)\n",
    "dPsiB_IMS = -50 # phase boundary potential bulk IMS -> IM (mV)\n",
    "dPsiB_Mat = 0.0 # phase boundary potential from IM -> Mat (mV)\n",
    "dPsi_m = dPsi - dPsiB_IMS - dPsiB_Mat"
   ]
  },
  {
   "attachments": {},
   "cell_type": "markdown",
   "id": "3c56e840",
   "metadata": {},
   "source": [
    "Now, we define parameters and reactions for each portion of the model. First, we define the ATP synthase dynamics:"
   ]
  },
  {
   "cell_type": "code",
   "execution_count": null,
   "id": "2e1f6882",
   "metadata": {},
   "outputs": [],
   "source": [
    "# E1: Movement of proton binding site in ATP synthase\n",
    "k_16 = Parameter(\"k_16\", 100.0*np.exp(3*F*dPsi_m/(2*R*T)), 1/sec) # movement of proton binding site Mat->IMS side\n",
    "k_61 = Parameter(\"k_61\", 4.98e7*np.exp(3*F*dPsi_m/(2*R*T)), 1/sec) # movement of proton binding site IMS->Mat side\n",
    "E1 = Reaction(\"E1\", [\"E_Mat\"], [\"E_IMS\"], {\"on\": \"k_16\", \"off\": \"k_61\"})\n",
    "\n",
    "# E2: bind/release of 3 protons in IMS\n",
    "k_65 = Parameter(\"k_65\", 3969, 1/sec) # binding rate of protons in IMS\n",
    "k_56 = Parameter(\"k_56\", 2.75e5*np.exp(3*F*dPsiB_IMS/(R*T)), 1/sec) # release of protons in IMS\n",
    "E2 = Reaction(\"E2\", [\"E_IMS\"], [],\n",
    "              param_map={\"E_tot\":\"E_tot\", \"k_56\":\"k_56\", \"k_65\":\"k_65\"}\n",
    "              species_map={\"E_Mat\":\"E_Mat\", \"E_IMS\":\"E_IMS\", \"E_Mat_H3Star\":\"E_Mat_H3Star\", \"E_Mat_H3S\":\"E_Mat_H3S\", \"E_Mat_H3\":\"E_Mat_H3\"}\n",
    "              eqn_f_str=\"k_65*E_IMS - k_56*(E_tot-E_Mat-E_IMS-E_Mat_H3Star-E_Mat_H3S-E_Mat_H3)\")\n",
    "\n",
    "# E3: movement of 3 protons from IMS to Matrix\n",
    "k_54 = Parameter(\"k_54\", 100.0, 1/sec)\n",
    "k_45 = Parameter(\"k_45\", 100.0, 1/sec)\n",
    "E3 = Reaction(\"E3\", [], [\"E_Mat_H3Star\"],\n",
    "              param_map={\"E_tot\":\"E_tot\", \"k_54\":\"k_54\", \"k_45\":\"k_45\"}\n",
    "              species_map={\"E_Mat\":\"E_Mat\", \"E_IMS\":\"E_IMS\", \"E_Mat_H3Star\":\"E_Mat_H3Star\", \"E_Mat_H3S\":\"E_Mat_H3S\", \"E_Mat_H3\":\"E_Mat_H3\"}\n",
    "              eqn_f_str=\"k_54*(E_tot-E_Mat-E_IMS-E_Mat_H3Star-E_Mat_H3S-E_Mat_H3) - k_45*E_Mat_H3Star\")\n",
    "\n",
    "# E4: movement of 3 protons from IMS to matrix without producing ATP\n",
    "k_52 = Parameter(\"k_54\", 1e-20, 1/sec)\n",
    "k_25 = Parameter(\"k_45\", 5.85e-30, 1/sec)\n",
    "E4 = Reaction(\"E4\", [], [\"E_Mat_H3\"],\n",
    "              param_map={\"E_tot\":\"E_tot\", \"k_52\":\"k_52\", \"k_25\":\"k_25\"}\n",
    "              species_map={\"E_Mat\":\"E_Mat\", \"E_IMS\":\"E_IMS\", \"E_Mat_H3Star\":\"E_Mat_H3Star\", \"E_Mat_H3S\":\"E_Mat_H3S\", \"E_Mat_H3\":\"E_Mat_H3\"}\n",
    "              eqn_f_str=\"k_52*(E_tot-E_Mat-E_IMS-E_Mat_H3Star-E_Mat_H3S-E_Mat_H3) - k_25*E_Mat_H3\")\n",
    "\n",
    "# E5: binding/unbinding of ADP-P to ATP synthase\n",
    "\n",
    "# E6: ATP production\n",
    "\n",
    "# E7: detachment of protons in the matrix\n",
    "k_21 = Parameter(\"k_16\", 40.0*np.exp(3*F*dPsiB_Mat/(2*R*T)), 1/sec) # unbinding rate of protons in matrix\n",
    "k_12 = Parameter(\"k_61\", 25.0, 1/sec) # binding rate of protons in matrix\n",
    "E1 = Reaction(\"E1\", [\"E_Mat_H3\"], [\"E_Mat\"], {\"on\": \"k_21\", \"off\": \"k_12\"})"
   ]
  },
  {
   "attachments": {},
   "cell_type": "markdown",
   "id": "15c35d39",
   "metadata": {},
   "source": [
    "## Create and load in mesh\n",
    "\n",
    "Here, we consider an \"ellipsoid-in-an-ellipsoid\" geometry. The inner ellipsoid represents the ER and the volume between the ER boundary and the boundary of the outer ellipsoid represents the cytosol."
   ]
  },
  {
   "cell_type": "code",
   "execution_count": null,
   "id": "fe56e162",
   "metadata": {},
   "outputs": [],
   "source": [
    "# curRadius = 0.25  # dendritic spine radius\n",
    "# domain, facet_markers, cell_markers = mesh_tools.create_ellipsoids((1.25*curRadius, 0.8*curRadius, curRadius),\n",
    "#                                                                    (1.25*curRadius/2, 0.8 *\n",
    "#                                                                     curRadius/2, curRadius/2),\n",
    "#                                                                    hEdge=0.01)\n",
    "cur_dir = pathlib.Path.cwd()\n",
    "parent_dir = cur_dir.parent\n",
    "mito_mesh = d.Mesh(f\"{str(parent_dir)}/meshes/mito1_mesh.xml\")\n",
    "cell_markers = d.MeshFunction(\"size_t\", mito_mesh, 3, mito_mesh.domains())\n",
    "facet_markers_orig = d.MeshFunction(\"size_t\", mito_mesh, 2, mito_mesh.domains())\n",
    "facet_markers = d.MeshFunction(\"size_t\", mito_mesh, 2, mito_mesh.domains())\n",
    "facet_array = facet_markers.array()[:]\n",
    "for i in range(len(facet_array)):\n",
    "    if facet_array[i] == 11: # this indicates cristae\n",
    "        facet_array[i] = 12 # consider cristae the same as inner membrane for now\n",
    "    elif facet_array[i] == 0:\n",
    "        facet_array[i] = 10\n",
    "    elif facet_array[i] > 1e9:\n",
    "        facet_array[i] = 0\n",
    "# facet_markers.array()[np.where(facet_markers.array() > 1e9)[0]] = 0 # set unassigned facets to 0\n",
    "\n",
    "# Write mesh and meshfunctions to file\n",
    "mesh_folder = pathlib.Path(\"mesh\")\n",
    "mesh_folder.mkdir(exist_ok=True)\n",
    "mesh_path = mesh_folder / \"mito1.h5\"\n",
    "mesh_tools.write_mesh(\n",
    "    mito_mesh, facet_markers, cell_markers, filename=mesh_path\n",
    ")\n",
    "parent_mesh = mesh.ParentMesh(\n",
    "    mesh_filename=str(mesh_path),\n",
    "    mesh_filetype=\"hdf5\",\n",
    "    name=\"parent_mesh\",\n",
    ")\n",
    "visualization.plot_dolfin_mesh(mito_mesh, cell_markers, facet_markers, clip_logic=False)"
   ]
  },
  {
   "attachments": {},
   "cell_type": "markdown",
   "id": "0943588e",
   "metadata": {},
   "source": [
    "Initialize model and solver."
   ]
  },
  {
   "cell_type": "code",
   "execution_count": null,
   "id": "ac88bdec",
   "metadata": {},
   "outputs": [],
   "source": [
    "config_cur = config.Config()\n",
    "config_cur.flags.update({\"allow_unused_components\": True})\n",
    "model_cur = model.Model(pc, sc, cc, rc, config_cur, parent_mesh)\n",
    "config_cur.solver.update(\n",
    "    {\n",
    "        \"final_t\": 0.1,\n",
    "        \"initial_dt\": 0.001,\n",
    "        \"time_precision\": 6,\n",
    "    }\n",
    ")\n",
    "model_cur.initialize()"
   ]
  },
  {
   "attachments": {},
   "cell_type": "markdown",
   "id": "5d5aacbd",
   "metadata": {},
   "source": [
    "Initialize XDMF files for saving results, save model information to .pkl file, then solve the system until `model_cur.t > model_cur.final_t`"
   ]
  },
  {
   "cell_type": "code",
   "execution_count": null,
   "id": "b54d28ca",
   "metadata": {},
   "outputs": [],
   "source": [
    "# Write initial condition(s) to file\n",
    "results = dict()\n",
    "result_folder = pathlib.Path(f\"results\")\n",
    "result_folder.mkdir(exist_ok=True)\n",
    "for species_name, species in model_cur.sc.items:\n",
    "    results[species_name] = d.XDMFFile(\n",
    "        model_cur.mpi_comm_world, str(result_folder / f\"{species_name}.xdmf\")\n",
    "    )\n",
    "    results[species_name].parameters[\"flush_output\"] = True\n",
    "    results[species_name].write(model_cur.sc[species_name].u[\"u\"], model_cur.t)\n",
    "model_cur.to_pickle(\"model_cur.pkl\")\n",
    "\n",
    "# Set loglevel to warning in order not to pollute notebook output\n",
    "logger.setLevel(logging.WARNING)\n",
    "\n",
    "concVec = np.array([.05])\n",
    "cytoMesh = model_cur.cc['Cyto'].dolfin_mesh\n",
    "# integrateDomain = d.MeshFunction(\"size_t\", cytoMesh, 3, 0)\n",
    "# RTarget = (curRadius + curRadius/2) / 2\n",
    "# for c in d.cells(cytoMesh):\n",
    "#     RCur = np.sqrt(c.midpoint().x()**2 + c.midpoint().y()**2 + c.midpoint().z()**2)\n",
    "#     integrateDomain[c] = 1 if (RCur > RTarget-.1*curRadius and RCur <\n",
    "#                                 RTarget + .1*curRadius) else 0\n",
    "dx = d.Measure(\"dx\", domain=cytoMesh)\n",
    "volume = d.assemble(1.0*dx)\n",
    "# Solve\n",
    "displayed = False\n",
    "while True:\n",
    "    # Solve the system\n",
    "    model_cur.monolithic_solve()\n",
    "    # Save results for post processing\n",
    "    for species_name, species in model_cur.sc.items:\n",
    "        results[species_name].write(model_cur.sc[species_name].u[\"u\"], model_cur.t)\n",
    "    # save mean value at r = (curRadius + curRadius/2)/2 (for comparison to Cugno graph below)\n",
    "    int_val = d.assemble(model_cur.sc['Ca'].u['u']*dx)\n",
    "    curConc = np.array([int_val / volume])\n",
    "    concVec = np.concatenate((concVec, curConc))\n",
    "    np.savetxt(result_folder / f\"tvec.txt\", np.array(model_cur.tvec).astype(np.float32))\n",
    "    # if model_cur.t > .025 and not displayed:  # display first time after .025 s\n",
    "    #     visualization.plot(model_cur.sc['Ca'].u['u'])\n",
    "    #     displayed = True\n",
    "    # End if we've passed the final time\n",
    "    if model_cur.t >= model_cur.final_t:\n",
    "        break"
   ]
  },
  {
   "attachments": {},
   "cell_type": "markdown",
   "id": "ead460cb",
   "metadata": {},
   "source": [
    "Plot concentration over time."
   ]
  },
  {
   "cell_type": "code",
   "execution_count": null,
   "id": "7d17ded6",
   "metadata": {},
   "outputs": [],
   "source": [
    "plt.plot(model_cur.tvec, concVec)\n",
    "plt.xlabel(\"Time (s)\")\n",
    "plt.ylabel(\"Calcium concentration (μM)\")\n",
    "plt.title(\"SMART simulation\")"
   ]
  }
 ],
 "metadata": {
  "jupytext": {
   "cell_metadata_filter": "-all",
   "main_language": "python",
   "notebook_metadata_filter": "-all"
  },
  "kernelspec": {
   "display_name": "Python 3",
   "language": "python",
   "name": "python3"
  },
  "language_info": {
   "codemirror_mode": {
    "name": "ipython",
    "version": 3
   },
   "file_extension": ".py",
   "mimetype": "text/x-python",
   "name": "python",
   "nbconvert_exporter": "python",
   "pygments_lexer": "ipython3",
   "version": "3.10.6"
  },
  "vscode": {
   "interpreter": {
    "hash": "916dbcbb3f70747c44a77c7bcd40155683ae19c65e1c03b4aa3499c5328201f1"
   }
  }
 },
 "nbformat": 4,
 "nbformat_minor": 5
}
