{
 "cells": [
  {
   "attachments": {},
   "cell_type": "markdown",
   "id": "f65f18d7",
   "metadata": {},
   "source": [
    "# ATP dynamics in realistic mitochondridal geometries\n",
    "\n",
    "Here, we implement the model presented in [Garcia et al, Scientific Reports](https://www.biorxiv.org/content/10.1101/2022.08.16.500715v2.full#ref-39), which describes production of ATP in mitochondria.\n",
    "\n",
    "The geometry in this model is divided into 4 domains - two volumes and two surfaces:\n",
    "- outer mitochondrial membrane (OM)\n",
    "- intermembrane space (IMS)\n",
    "- Inner membrane (IM)\n",
    "- Matrix (MAT) (volume inside the mitochondrial matrix)"
   ]
  },
  {
   "cell_type": "code",
   "execution_count": null,
   "id": "cc398816",
   "metadata": {},
   "outputs": [],
   "source": [
    "import dolfin as d\n",
    "import sympy as sym\n",
    "import numpy as np\n",
    "import pathlib\n",
    "import logging\n",
    "import gmsh  # must be imported before pyvista if dolfin is imported first\n",
    "import copy\n",
    "\n",
    "from smart import config, mesh, model, mesh_tools, visualization\n",
    "from smart.units import unit\n",
    "from smart.model_assembly import (\n",
    "    Compartment,\n",
    "    Parameter,\n",
    "    Reaction,\n",
    "    Species,\n",
    "    SpeciesContainer,\n",
    "    ParameterContainer,\n",
    "    CompartmentContainer,\n",
    "    ReactionContainer,\n",
    "    sbmodel_from_locals\n",
    ")\n",
    "\n",
    "from matplotlib import pyplot as plt\n",
    "import matplotlib.image as mpimg\n",
    "from matplotlib import rcParams\n",
    "\n",
    "logger = logging.getLogger(\"smart\")\n",
    "logger.setLevel(logging.INFO)"
   ]
  },
  {
   "attachments": {},
   "cell_type": "markdown",
   "id": "95b9d865",
   "metadata": {},
   "source": [
    "First, we define the various units for the inputs and define universal constants."
   ]
  },
  {
   "cell_type": "code",
   "execution_count": null,
   "id": "4f4023cf",
   "metadata": {},
   "outputs": [],
   "source": [
    "# Aliases - base units\n",
    "mM = unit.mM\n",
    "um = unit.um\n",
    "molecule = unit.molecule\n",
    "sec = unit.sec\n",
    "dimensionless = unit.dimensionless\n",
    "# Aliases - units used in model\n",
    "D_unit = um**2 / sec\n",
    "flux_unit = mM * um / sec\n",
    "vol_unit = mM\n",
    "surf_unit = molecule / um**2\n",
    "\n",
    "F = 9.649e4 # Faraday's constant (C/mol)\n",
    "R = 8.315 # gas constant (J/mol-K)"
   ]
  },
  {
   "attachments": {},
   "cell_type": "markdown",
   "id": "46582d26",
   "metadata": {},
   "source": [
    "## Model generation\n",
    "\n",
    "We first define compartments and the add them to a compartment container. Note that we can specify nonadjacency for surfaces in the model, which is not required, but can speed up the solution process."
   ]
  },
  {
   "cell_type": "code",
   "execution_count": null,
   "id": "02a000f2",
   "metadata": {},
   "outputs": [],
   "source": [
    "IMS = Compartment(\"IMS\", 3, um, 1)\n",
    "OM = Compartment(\"OM\", 2, um, 10)\n",
    "Mat = Compartment(\"Mat\", 3, um, 2)\n",
    "Cristae = Compartment(\"Cristae\", 2, um, 11)\n",
    "IM = Compartment(\"IM\", 2, um, 12)\n",
    "OM.specify_nonadjacency([\"IM\", \"Mat\", \"Cristae\"])\n",
    "IM.specify_nonadjacency([\"OM\"])\n",
    "Cristae.specify_nonadjacency([\"OM\"])\n",
    "\n",
    "cc = CompartmentContainer()\n",
    "cc.add([IMS, OM, Mat, IM, Cristae])"
   ]
  },
  {
   "attachments": {},
   "cell_type": "markdown",
   "id": "f9121840",
   "metadata": {},
   "source": [
    "Define all model species and and place in species container."
   ]
  },
  {
   "cell_type": "code",
   "execution_count": null,
   "id": "09079b17",
   "metadata": {},
   "outputs": [],
   "source": [
    "# ATP synthase states\n",
    "E_tot = Parameter(\"E_tot\", 267/1.0197, surf_unit)\n",
    "E_Mat = Species(\"E_Mat\", 0.0, surf_unit, 0.0, D_unit, \"Cristae\")\n",
    "E_IMS = Species(\"E_IMS\", f\"0.796*{E_tot.value}*exp(-curv/100)\", surf_unit, 0.0, D_unit, \"Cristae\")\n",
    "E_Mat_H3Star = Species(\"E_Mat_H3Star\", 0.0, surf_unit, 0.0, D_unit, \"Cristae\")\n",
    "E_Mat_H3S = Species(\"E_Mat_H3S\", 0.0, surf_unit, 0.0, D_unit, \"Cristae\")\n",
    "E_Mat_H3 = Species(\"E_Mat_H3\", 0.0, surf_unit, 0.0, D_unit, \"Cristae\")\n",
    "# ANT states\n",
    "L_tot = Parameter(\"L_tot\", 16471/0.5256, surf_unit)\n",
    "L = Species(\"L\", 1.0*L_tot.value, surf_unit, 0.0, D_unit, \"IM\")\n",
    "TL = Species(\"TL\", 0.0, surf_unit, 0.0, D_unit, \"IM\")\n",
    "LTsp = Species(\"LTsp\", 0.0, surf_unit, 0.0, D_unit, \"IM\")\n",
    "DL = Species(\"DL\", 0.0, surf_unit, 0.0, D_unit, \"IM\")\n",
    "LD = Species(\"LD\", 0.0, surf_unit, 0.0, D_unit, \"IM\")\n",
    "TLD = Species(\"TLD\", 0.0, surf_unit, 0.0, D_unit, \"IM\")\n",
    "DLT = Species(\"DLT\", 0.0, surf_unit, 0.0, D_unit, \"IM\")\n",
    "DLD = Species(\"DLD\", 0.0, surf_unit, 0.0, D_unit, \"IM\") # DLD + DLD' in original model\n",
    "# DLDPrime = Species(\"DLDPrime\", 0.0, surf_unit, 0.0, D_unit, \"IM\")\n",
    "# TLT = Species(\"TLT\", 0.0, surf_unit, 0.0, D_unit, \"IM\") # TLT + TLT' in original model\n",
    "# TLTPrime = Species(\"TLTPrime\", 0.0, surf_unit, 0.0, D_unit, \"IM\")\n",
    "# ATP/ADP in matrix and IMS\n",
    "D_Mat = Species(\"D_Mat\", 0.45*0.8*2.0, vol_unit, 15.0, D_unit, \"Mat\")\n",
    "T_Mat = Species(\"T_Mat\", 0.05*13.0, vol_unit, 15.0, D_unit, \"Mat\")\n",
    "T_IMS = Species(\"T_IMS\", 0.05*6.5, vol_unit, 15.0, D_unit, \"IMS\")\n",
    "D_IMS = Species(\"D_IMS\", 0.45*0.1, vol_unit, 15.0, D_unit, \"IMS\")"
   ]
  },
  {
   "cell_type": "markdown",
   "metadata": {},
   "source": [
    "Define mitochondrial conditions (temperature, voltage, pH)"
   ]
  },
  {
   "cell_type": "code",
   "execution_count": null,
   "metadata": {},
   "outputs": [],
   "source": [
    "pH_Mat = 7.6 # matrix pH\n",
    "pH_c = 7.2 # cristae pH\n",
    "T = 310 # body temperature (K)\n",
    "dPsi = 180 # membrane voltage (mV)\n",
    "dPsiB_IMS = -50 # phase boundary potential bulk IMS -> IM (mV) (I think this is reversed)\n",
    "dPsiB_Mat = 0.0 # phase boundary potential from IM -> Mat (mV)\n",
    "dPsi_m = dPsi + dPsiB_IMS - dPsiB_Mat\n",
    "F_RT = F / (1000*R*T) # F/(RT) (1/1000)*C/K (1/mV)"
   ]
  },
  {
   "attachments": {},
   "cell_type": "markdown",
   "id": "3c56e840",
   "metadata": {},
   "source": [
    "Now, we define parameters and reactions for each portion of the model. First, we define the ATP synthase dynamics:"
   ]
  },
  {
   "cell_type": "code",
   "execution_count": null,
   "id": "2e1f6882",
   "metadata": {},
   "outputs": [],
   "source": [
    "# E1: Movement of proton binding site in ATP synthase\n",
    "k_16 = Parameter(\"k_16\", 100.0*np.exp(3*F_RT*dPsi_m/2), 1/sec) # movement of proton binding site Mat->IMS side\n",
    "k_61 = Parameter(\"k_61\", 4.98e7*np.exp(-3*F_RT*dPsi_m/2), 1/sec) # movement of proton binding site IMS->Mat side\n",
    "E1 = Reaction(\"E1\", [\"E_Mat\"], [\"E_IMS\"], {\"on\": \"k_16\", \"off\": \"k_61\"})\n",
    "\n",
    "# E2: bind/release of 3 protons in IMS\n",
    "k_65 = Parameter(\"k_65\", 1.58e25*(10**(-pH_c))**3, 1/sec) # binding rate of protons in IMS\n",
    "k_56 = Parameter(\"k_56\", 2.75e5*np.exp(3*F_RT*dPsiB_IMS), 1/sec) # release of protons in IMS\n",
    "E2 = Reaction(\"E2\", [\"E_IMS\"], [],\n",
    "              param_map={\"E_tot\":\"E_tot\", \"k_56\":\"k_56\", \"k_65\":\"k_65\"},\n",
    "              species_map={\"E_Mat\":\"E_Mat\", \"E_IMS\":\"E_IMS\", \"E_Mat_H3Star\":\"E_Mat_H3Star\", \"E_Mat_H3S\":\"E_Mat_H3S\", \"E_Mat_H3\":\"E_Mat_H3\"},\n",
    "              eqn_f_str=\"k_65*E_IMS - k_56*(E_tot-E_Mat-E_IMS-E_Mat_H3Star-E_Mat_H3S-E_Mat_H3)\")\n",
    "\n",
    "# E3: movement of 3 protons from IMS to Matrix\n",
    "k_54 = Parameter(\"k_54\", 100.0, 1/sec)\n",
    "k_45 = Parameter(\"k_45\", 100.0, 1/sec)\n",
    "E3 = Reaction(\"E3\", [], [\"E_Mat_H3Star\"],\n",
    "              param_map={\"E_tot\":\"E_tot\", \"k_54\":\"k_54\", \"k_45\":\"k_45\"},\n",
    "              species_map={\"E_Mat\":\"E_Mat\", \"E_IMS\":\"E_IMS\", \"E_Mat_H3Star\":\"E_Mat_H3Star\", \"E_Mat_H3S\":\"E_Mat_H3S\", \"E_Mat_H3\":\"E_Mat_H3\"},\n",
    "              eqn_f_str=\"k_54*(E_tot-E_Mat-E_IMS-E_Mat_H3Star-E_Mat_H3S-E_Mat_H3) - k_45*E_Mat_H3Star\")\n",
    "\n",
    "# E4: movement of 3 protons from IMS to matrix without producing ATP\n",
    "k_52 = Parameter(\"k_52\", 1e-20, 1/sec)\n",
    "k_25 = Parameter(\"k_25\", 5.85e-30, 1/sec)\n",
    "E4 = Reaction(\"E4\", [], [\"E_Mat_H3\"],\n",
    "              param_map={\"E_tot\":\"E_tot\", \"k_52\":\"k_52\", \"k_25\":\"k_25\"},\n",
    "              species_map={\"E_Mat\":\"E_Mat\", \"E_IMS\":\"E_IMS\", \"E_Mat_H3Star\":\"E_Mat_H3Star\", \"E_Mat_H3S\":\"E_Mat_H3S\", \"E_Mat_H3\":\"E_Mat_H3\"},\n",
    "              eqn_f_str=\"k_52*(E_tot-E_Mat-E_IMS-E_Mat_H3Star-E_Mat_H3S-E_Mat_H3) - k_25*E_Mat_H3\")\n",
    "\n",
    "# E5: binding/unbinding of ADP-P to ATP synthase\n",
    "k_43 = Parameter(\"k_43\", 2e3, 1/(mM*sec))\n",
    "k_34 = Parameter(\"k_34\", 100.0, 1/sec)\n",
    "E5 = Reaction(\"E5\", [\"E_Mat_H3Star\", \"D_Mat\"], [\"E_Mat_H3S\"],\n",
    "              {\"on\": \"k_43\", \"off\": \"k_34\"})\n",
    "\n",
    "# E6: ATP production\n",
    "k_32 = Parameter(\"k_32\", 5e3, 1/sec)\n",
    "k_23 = Parameter(\"k_23\", 5e3, 1/(mM*sec))\n",
    "E6 = Reaction(\"E6\", [\"E_Mat_H3S\"], [\"E_Mat_H3\", \"T_Mat\"],\n",
    "              {\"on\": \"k_32\", \"off\": \"k_23\"})\n",
    "\n",
    "# E7: detachment of protons in the matrix\n",
    "k_21 = Parameter(\"k_21\", 40.0*np.exp(3*F_RT*dPsiB_Mat), 1/sec) # unbinding rate of protons in matrix\n",
    "k_12 = Parameter(\"k_12\", 6.33e24*(10**(-pH_Mat))**3, 1/sec) # should be 100.0 at pH=7.2 binding rate of protons in matrix\n",
    "E7 = Reaction(\"E7\", [\"E_Mat_H3\"], [\"E_Mat\"], {\"on\": \"k_21\", \"off\": \"k_12\"})"
   ]
  },
  {
   "cell_type": "markdown",
   "metadata": {},
   "source": [
    "Now, we define the reactions associated with adenine nucleotide transporters (ANTs):"
   ]
  },
  {
   "cell_type": "code",
   "execution_count": null,
   "metadata": {},
   "outputs": [],
   "source": [
    "# L1: Define all kinetic constants for ANTs\n",
    "koff_Tm = Parameter(\"koff_Tm\", 4e4, 1/sec) # unbinding of matrix ATP\n",
    "kon_Tm = Parameter(\"kon_Tm\", 6.4e6/1000, 1/(mM*sec)) # binding of matrix ATP\n",
    "koff_Ti = Parameter(\"koff_Ti\", 200.0, 1/sec) # unbinding of IMS ATP\n",
    "kon_Ti = Parameter(\"kon_Ti\", 4e5/1000, 1/(mM*sec)) # binding of IMS ATP\n",
    "koff_Dm = Parameter(\"koff_Dm\", 4e4, 1/sec) # unbinding of matrix ADP\n",
    "kon_Dm = Parameter(\"kon_Dm\", 4e6/1000, 1/(mM*sec)) # binding of matrix ADP\n",
    "koff_Di = Parameter(\"koff_Di\", 100.0, 1/sec) # unbinding of IMS ADP\n",
    "kon_Di = Parameter(\"kon_Di\", 4e6/1000, 1/(mM*sec)) # binding of IMS ADP\n",
    "k_p = Parameter(\"k_p\", 9.2, 1/sec) # ATP transport Mat->IMS (productive)\n",
    "k_cp = Parameter(\"k_cp\", 0.35, 1/sec) # ATP transport IMS -> Mat (nonproductive)\n",
    "\n",
    "# L1: Binding of matrix ATP to free ANT (L)\n",
    "L1 = Reaction(\"L1\", [\"L\", \"T_Mat\"], [\"LTsp\"], {\"on\": \"kon_Tm\", \"off\": \"koff_Tm\"})\n",
    "\n",
    "# L2: Binding of matrix ADP to free ANT (L)\n",
    "L2 = Reaction(\"L2\", [\"L\", \"D_Mat\"], [\"LD\"], {\"on\": \"kon_Dm\", \"off\": \"koff_Dm\"})\n",
    "\n",
    "# L3: Binding of IMS ATP to free ANT (L)\n",
    "L3 = Reaction(\"L3\", [\"L\", \"T_IMS\"], [\"TL\"], {\"on\": \"kon_Ti\", \"off\": \"koff_Ti\"})\n",
    "\n",
    "# L4: Binding of IMS ADP to free ANT (L)\n",
    "L4 = Reaction(\"L4\", [\"L\", \"D_IMS\"], [\"DL\"], {\"on\": \"kon_Di\", \"off\": \"koff_Di\"})\n",
    "\n",
    "# L5: Binding of matrix ATP to TL\n",
    "L5 = Reaction(\"L5\", [\"TL\", \"T_Mat\"], [],\n",
    "              param_map={\"L_tot\":\"L_tot\", \"kon_Tm\":\"kon_Tm\", \"koff_Tm\":\"koff_Tm\"},\n",
    "              species_map={\"L\":\"L\", \"LTsp\":\"LTsp\", \"LD\":\"LD\", \"TL\":\"TL\", \"DL\":\"DL\", \"TLD\":\"TLD\", \"DLT\":\"DLT\", \"DLD\":\"DLD\", \"T_Mat\":\"T_Mat\"},\n",
    "              eqn_f_str=\"kon_Tm*TL*T_Mat - koff_Tm*(L_tot-L-LTsp-LD-TL-DL-TLD-DLT-DLD)\")\n",
    "\n",
    "# L6: Binding of matrix ADP to TL\n",
    "L6 = Reaction(\"L6\", [\"TL\", \"D_Mat\"], [\"TLD\"], {\"on\": \"kon_Dm\", \"off\": \"koff_Dm\"})\n",
    "\n",
    "# L7: Binding of IMS ATP to LT\n",
    "L7 = Reaction(\"L7\", [\"LTsp\", \"T_IMS\"], [],\n",
    "              param_map={\"L_tot\":\"L_tot\", \"kon_Ti\":\"kon_Ti\", \"koff_Tm\":\"koff_Ti\"},\n",
    "              species_map={\"L\":\"L\", \"LTsp\":\"LTsp\", \"LD\":\"LD\", \"TL\":\"TL\", \"DL\":\"DL\", \"TLD\":\"TLD\", \"DLT\":\"DLT\", \"DLD\":\"DLD\", \"T_IMS\":\"T_IMS\"},\n",
    "              eqn_f_str=\"kon_Ti*LTsp*T_IMS - koff_Ti*(L_tot-L-LTsp-LD-TL-DL-TLD-DLT-DLD)\")\n",
    "\n",
    "# L8: Binding of IMS ADP to LT\n",
    "L8 = Reaction(\"L8\", [\"LTsp\", \"D_IMS\"], [\"DLT\"], {\"on\": \"kon_Di\", \"off\": \"koff_Di\"})\n",
    "\n",
    "# L9: Binding of matrix ATP to DL\n",
    "L9 = Reaction(\"L9\", [\"DL\", \"T_Mat\"], [\"DLT\"], {\"on\": \"kon_Tm\", \"off\": \"koff_Tm\"})\n",
    "\n",
    "# L10: Binding of matrix ADP to DL\n",
    "L10 = Reaction(\"L10\", [\"DL\", \"D_Mat\"], [\"DLD\"], {\"on\": \"kon_Dm\", \"off\": \"koff_Dm\"})\n",
    "\n",
    "# L11: Binding of IMS ATP to LD\n",
    "L11 = Reaction(\"L11\", [\"LD\", \"T_IMS\"], [\"TLD\"], {\"on\": \"kon_Ti\", \"off\": \"koff_Ti\"})\n",
    "\n",
    "# L12: Binding of IMS ADP to LD\n",
    "L12 = Reaction(\"L12\", [\"LD\", \"D_IMS\"], [\"DLD\"], {\"on\": \"kon_Di\", \"off\": \"koff_Di\"})\n",
    "\n",
    "# L13: Exchange of ADP for ATP (can go either way)\n",
    "L13 = Reaction(\"L13\", [\"DLT\"], [\"TLD\"], {\"on\": \"k_p\", \"off\": \"k_cp\"})"
   ]
  },
  {
   "cell_type": "markdown",
   "metadata": {},
   "source": [
    "Finally, consider the export of ATP into the cytosol:"
   ]
  },
  {
   "cell_type": "code",
   "execution_count": null,
   "metadata": {},
   "outputs": [],
   "source": [
    "k_vdac = Parameter(\"k_vdac\", 1e6/1000, 1/(mM*sec))\n",
    "VDAC = Parameter(\"VDAC\", 1e4, surf_unit)\n",
    "T_cyto = Parameter(\"T_cyto\", 0.05*6.5, mM)\n",
    "V1 = Reaction(\"V1\", [\"T_IMS\"],[],\n",
    "              explicit_restriction_to_domain=\"OM\",\n",
    "              param_map={\"k_vdac\":\"k_vdac\", \"VDAC\":\"VDAC\", \"T_cyto\":\"T_cyto\"},\n",
    "              species_map={\"T_IMS\":\"T_IMS\"},\n",
    "              eqn_f_str=\"k_vdac * VDAC * (T_IMS  - T_cyto)\")"
   ]
  },
  {
   "attachments": {},
   "cell_type": "markdown",
   "id": "15c35d39",
   "metadata": {},
   "source": [
    "## Create and load in mesh\n",
    "\n",
    "Here, we load a realistic mitochondrial geometry."
   ]
  },
  {
   "cell_type": "code",
   "execution_count": null,
   "id": "fe56e162",
   "metadata": {},
   "outputs": [],
   "source": [
    "cur_dir = pathlib.Path.cwd()\n",
    "parent_dir = cur_dir.parent\n",
    "mito_mesh = d.Mesh(f\"{str(parent_dir)}/meshes/mito1_mesh.xml\")\n",
    "cell_markers = d.MeshFunction(\"size_t\", mito_mesh, 3, mito_mesh.domains())\n",
    "facet_markers_orig = d.MeshFunction(\"size_t\", mito_mesh, 2, mito_mesh.domains())\n",
    "facet_markers = d.MeshFunction(\"size_t\", mito_mesh, 2, mito_mesh.domains())\n",
    "facet_array = facet_markers.array()[:]\n",
    "for i in range(len(facet_array)):\n",
    "    if facet_array[i] == 11: # this indicates cristae\n",
    "        facet_array[i] = 12 # consider cristae the same as inner membrane for curvature calculation\n",
    "    if facet_array[i] > 1e9: # unassigned\n",
    "        facet_array[i] = 0\n",
    "\n",
    "facet_markers = facet_markers_orig\n",
    "\n",
    "# Write mesh and meshfunctions to file\n",
    "mesh_folder = pathlib.Path(\"mito_mesh\")\n",
    "mesh_folder.mkdir(exist_ok=True)\n",
    "mesh_path = mesh_folder / \"mito1.h5\"\n",
    "mesh_tools.write_mesh(\n",
    "    mito_mesh, facet_markers, cell_markers, filename=mesh_path\n",
    ")\n",
    "curv_file = parent_dir / \"meshes\" / \"mito1_curvature.h5\"\n",
    "\n",
    "parent_mesh = mesh.ParentMesh(\n",
    "    mesh_filename=str(mesh_path),\n",
    "    mesh_filetype=\"hdf5\",\n",
    "    name=\"parent_mesh\",\n",
    "    curvature=curv_file,\n",
    ")\n",
    "visualization.plot_dolfin_mesh(mito_mesh, cell_markers, facet_markers, clip_logic=False)"
   ]
  },
  {
   "attachments": {},
   "cell_type": "markdown",
   "id": "0943588e",
   "metadata": {},
   "source": [
    "Initialize model and solver."
   ]
  },
  {
   "cell_type": "code",
   "execution_count": null,
   "id": "ac88bdec",
   "metadata": {},
   "outputs": [],
   "source": [
    "pc, sc, cc, rc = sbmodel_from_locals(locals().values())\n",
    "config_cur = config.Config()\n",
    "config_cur.flags.update({\"allow_unused_components\": True,\n",
    "                         \"enforce_mass_conservation\": True})\n",
    "dt = .0001\n",
    "config_cur.solver.update(\n",
    "    {\n",
    "        \"final_t\": 1.0,\n",
    "        \"initial_dt\": dt,\n",
    "        \"time_precision\": 6,\n",
    "        \"attempt_timestep_restart_on_divergence\": True,\n",
    "    }\n",
    ")"
   ]
  },
  {
   "attachments": {},
   "cell_type": "markdown",
   "id": "5d5aacbd",
   "metadata": {},
   "source": [
    "Initialize XDMF files for saving results, save model information to .pkl file, then solve the system until `model_cur.t > model_cur.final_t`. Currently test different cases of curvature dependence, with ATP synthase either preferentially localized to negative curvatures, to positive curvatures, or with no curvature sensitivity."
   ]
  },
  {
   "cell_type": "code",
   "execution_count": null,
   "id": "b54d28ca",
   "metadata": {},
   "outputs": [],
   "source": [
    "curv_dep = [0,-20,-10,-5, 5,10,20]#[-100, -10, 10, 100]\n",
    "scale_factor = [1.0, 0.80323, 0.0027702, 0.080832, 1.1499] # for CG1 curvature calc (old calc)\n",
    "scale_factor = [1.0, 1.2504, 0.041593, 8.0276e-8, 4.4281e-7, 0.018054, 0.28918] # for CG1 curvature calc (GAMer calc)\n",
    "for i in range(len(curv_dep)):\n",
    "    if curv_dep[i] == 0:\n",
    "        sc[\"E_IMS\"].initial_condition_expression = d.Expression(f\"{scale_factor[i]}*{E_tot.value}\", degree=1)\n",
    "    else:\n",
    "        sc[\"E_IMS\"].initial_condition_expression = f\"{scale_factor[i]}*{E_tot.value}*exp(curv/{curv_dep[i]})\"\n",
    "    model_cur = model.Model(pc, sc, cc, rc, config_cur, parent_mesh)\n",
    "    model_cur.initialize()\n",
    "    # Write initial condition(s) to file\n",
    "    results = dict()\n",
    "    result_folder = pathlib.Path(f\"mito_results_curvdep={curv_dep[i]}\")\n",
    "    result_folder.mkdir(exist_ok=True)\n",
    "    for species_name, species in model_cur.sc.items:\n",
    "        results[species_name] = d.XDMFFile(\n",
    "            model_cur.mpi_comm_world, str(result_folder / f\"{species_name}.xdmf\")\n",
    "        )\n",
    "        results[species_name].parameters[\"flush_output\"] = True\n",
    "        results[species_name].write(model_cur.sc[species_name].u[\"u\"], model_cur.t)\n",
    "    model_cur.to_pickle(\"model_cur.pkl\")\n",
    "\n",
    "    # Set loglevel to warning in order not to pollute notebook output\n",
    "    # logger.setLevel(logging.WARNING)\n",
    "\n",
    "    concVec = np.array([sc[\"T_IMS\"].initial_condition])\n",
    "    IMSMesh = model_cur.cc[\"IMS\"].dolfin_mesh\n",
    "    dx_IMS = d.Measure(\"dx\", domain=IMSMesh)\n",
    "    OMMesh = model_cur.cc[\"OM\"].dolfin_mesh\n",
    "    dx_OM = d.Measure(\"dx\", domain=OMMesh)\n",
    "    volume_IMS = d.assemble(1.0*dx_IMS)\n",
    "    sa_OM = d.assemble(1.0*dx_OM)\n",
    "    volume_cyto = 0.306\n",
    "    cyto_convert = 1/(6.0221408e5 * volume_cyto)\n",
    "    # Solve\n",
    "    displayed = False\n",
    "    while True:\n",
    "        T_cyto_prev = pc[\"T_cyto\"].value\n",
    "        T_cyto_flux = d.assemble(k_vdac.value * VDAC.value * (T_cyto_prev - sc[\"T_IMS\"].u[\"u\"]) * dx_OM)\n",
    "        pc[\"T_cyto\"].value = T_cyto_prev + T_cyto_flux * dt * cyto_convert\n",
    "        # Solve the system\n",
    "        model_cur.monolithic_solve()\n",
    "        model_cur.adjust_dt()\n",
    "        # update estimate for T_cyto\n",
    "        T_cyto_flux = d.assemble(k_vdac.value * VDAC.value * (pc[\"T_cyto\"].value - sc[\"T_IMS\"].u[\"u\"]) * dx_OM)\n",
    "        pc[\"T_cyto\"].value = T_cyto_prev + T_cyto_flux * dt * cyto_convert\n",
    "        pc[\"T_cyto\"].value_vector = np.vstack((pc[\"T_cyto\"].value_vector, [float(model_cur.t), pc[\"T_cyto\"].value]))\n",
    "        pc[\"T_cyto\"].dolfin_constant.assign(pc[\"T_cyto\"].value)\n",
    "        # Save results for post processing\n",
    "        for species_name, species in model_cur.sc.items:\n",
    "            results[species_name].write(model_cur.sc[species_name].u[\"u\"], model_cur.t)\n",
    "        int_val = d.assemble(model_cur.sc[\"T_IMS\"].u[\"u\"]*dx_IMS)\n",
    "        curConc = np.array([int_val / volume_IMS])\n",
    "        concVec = np.concatenate((concVec, curConc))\n",
    "        np.savetxt(result_folder / f\"tvec.txt\", np.array(model_cur.tvec).astype(np.float32))\n",
    "        np.savetxt(result_folder / f\"T_cyto.txt\", np.array(pc[\"T_cyto\"].value_vector).astype(np.float32))\n",
    "        if model_cur.t >= model_cur.final_t:\n",
    "            break"
   ]
  },
  {
   "attachments": {},
   "cell_type": "markdown",
   "id": "ead460cb",
   "metadata": {},
   "source": [
    "Plot concentration over time."
   ]
  },
  {
   "cell_type": "code",
   "execution_count": null,
   "id": "7d17ded6",
   "metadata": {},
   "outputs": [],
   "source": [
    "concVec[0] = sc[\"T_Mat\"].initial_condition\n",
    "plt.plot(model_cur.tvec, concVec)\n",
    "plt.xlabel(\"Time (s)\")\n",
    "plt.ylabel(\"ATP concentration (mM)\")\n",
    "plt.title(\"SMART simulation\")"
   ]
  }
 ],
 "metadata": {
  "jupytext": {
   "cell_metadata_filter": "-all",
   "main_language": "python",
   "notebook_metadata_filter": "-all"
  },
  "kernelspec": {
   "display_name": "Python 3",
   "language": "python",
   "name": "python3"
  },
  "language_info": {
   "codemirror_mode": {
    "name": "ipython",
    "version": 3
   },
   "file_extension": ".py",
   "mimetype": "text/x-python",
   "name": "python",
   "nbconvert_exporter": "python",
   "pygments_lexer": "ipython3",
   "version": "3.10.12"
  },
  "vscode": {
   "interpreter": {
    "hash": "916dbcbb3f70747c44a77c7bcd40155683ae19c65e1c03b4aa3499c5328201f1"
   }
  }
 },
 "nbformat": 4,
 "nbformat_minor": 5
}
