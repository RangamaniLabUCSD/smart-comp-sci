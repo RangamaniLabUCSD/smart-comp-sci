{
 "cells": [
  {
   "cell_type": "code",
   "execution_count": null,
   "metadata": {
    "metadata": {}
   },
   "outputs": [],
   "source": [
    "import sys, os, pathlib\n",
    "sys.path.append(\"/root/shared/gitrepos/smart-comp-sci/utils\")\n",
    "sys.path.append(\"/root/shared/gitrepos/smart-comp-sci/mito-example\")\n",
    "import smart_analysis\n",
    "from mito_ode import mito_ode_calc\n",
    "from matplotlib import pyplot as plt\n",
    "import numpy as np\n",
    "plt.style.use(str(pathlib.Path.cwd() / \"..\" / \"utils\" / \"smart_plots.mplstyle\"))\n",
    "cur_dir = pathlib.Path.cwd() / \"..\" / \"analysis_data\""
   ]
  },
  {
   "cell_type": "markdown",
   "metadata": {},
   "source": [
    "Analyze results from mitochondrion simulations."
   ]
  },
  {
   "cell_type": "code",
   "execution_count": null,
   "metadata": {},
   "outputs": [],
   "source": [
    "# files_dir = \"/root/scratch/smart-comp-sci-data/mito/results_fixedmodel_coarse\"\n",
    "files_dir = str(pathlib.Path.cwd() / \"..\" / \"analysis_data\" / \"mito_results\")\n",
    "npy_dir = pathlib.Path.cwd() / \"..\" / \"analysis_data\" / \"mito_npy_files\"\n",
    "npy_dir.mkdir(exist_ok=True)\n",
    "test_folders = os.listdir(files_dir)\n",
    "condition_str = []\n",
    "for i in [2,3]:#range(len(test_folders)):\n",
    "    results_folder = f\"{files_dir}/{test_folders[i]}\"\n",
    "    # mesh_file = \"/root/scratch/smart-comp-sci-data/mito/sweep_figure/meshes/mito_mesh.h5\"\n",
    "    # mesh_file = \"/root/scratch/smart-comp-sci-data/mito/mesh_coarser2/mito_mesh.h5\"\n",
    "    if \"sepCristae\" in test_folders[i]:\n",
    "        mesh_file = str(pathlib.Path.cwd() / \"..\" / \"analysis_data\" / \"mito_results\" / \"mito_mesh_sepCristae.h5\")\n",
    "    else:\n",
    "        mesh_file = str(pathlib.Path.cwd() / \"..\" / \"analysis_data\" / \"mito_results\" / \"mito_mesh.h5\")\n",
    "\n",
    "    tVec, results_all = smart_analysis.analyze_all(\n",
    "        mesh_file=mesh_file, results_path=results_folder, \n",
    "        display=False, ind_files=True)\n",
    "    results_all.insert(0, tVec) # add time as first element in list\n",
    "    max_length = len(tVec)\n",
    "    for j in range(len(results_all)):\n",
    "        if len(results_all[j]) > max_length:\n",
    "            max_length = len(results_all[j])\n",
    "    for j in range(len(results_all)):\n",
    "        num_zeros = max_length - len(results_all[j])\n",
    "        for k in range(num_zeros):\n",
    "            results_all[j].append(0)\n",
    "    np.save(npy_dir / f\"{test_folders[i]}_results.npy\", results_all)"
   ]
  },
  {
   "cell_type": "markdown",
   "metadata": {},
   "source": [
    "Generate plots of ATP concentration in matrix vs. inner membrane space vs. cytosol (Figure 5). Separate plots for numerical testing of well-mixed case (Figure 6)."
   ]
  },
  {
   "cell_type": "code",
   "execution_count": null,
   "metadata": {
    "metadata": {}
   },
   "outputs": [],
   "source": [
    "matrix_vol = 0.01646550900025656\n",
    "om_area = 0.6320190057300417\n",
    "ims_vol = 0.020313914966362288\n",
    "im0_area = 0.5255854703788347\n",
    "cristae_area = 1.0196892371671493\n",
    "cyto_vol = 0.306\n",
    "geoParam = [matrix_vol, ims_vol, cyto_vol]\n",
    "\n",
    "var_names_all = [\"ADP_matrix\", \"ATP_matrix\", \"ATP_cyto\", \"ATP_IMS\", \"L\", \"DL\", \"LD\", \n",
    "                 \"LT\", \"TL\", \"TLD\", \"DLD\", \"DLDp\", \"TLT\", \"TLTp\", \"E_IMS\", \"E_mat\", \n",
    "                 \"H3EStar_mat\", \"H3ES_mat\", \"H3E_mat\", \"ADP_IMS\"]\n",
    "# var_names_saved = [\"DL\", \"DLD\", \"DLT\", \"ADP_IMS\", \"ADP_matrix\", \"E_IMS\", \"E_mat\", \"H3E_mat\", \"H3ES_mat\",\n",
    "#                    \"H3EStar_mat\", \"L\", \"LD\", \"LT\", \"TL\", \"TLD\", \"ATP_IMS\", \"ATP_matrix\", \"ATP_cyto\"]\n",
    "var_names_saved = [\"DLD\", \"DLT\", \"DL\", \"ADP_matrix\", \"E_IMS\", \"E_mat\", \"H3EStar_mat\", \"H3ES_mat\",\n",
    "                   \"H3E_mat\", \"LD\", \"LT\", \"L\", \"TLD\", \"TL\", \"ATP_IMS\", \"ATP_matrix\", \"ATP_cyto\"]\n",
    "npyfiles = [\"curvdep0_results.npy\", \"curvdepneg20_results.npy\", \"curvdepneg10_results.npy\", \n",
    "            \"curvdep0_redo_results.npy\", \"curvdep20_results.npy\", \"D150_results.npy\"]\n",
    "Tcytofiles = [\"T_cyto_curvdep0.txt\", \"T_cyto_curvdepneg20.txt\", \"T_cyto_curvdepneg10.txt\", \n",
    "              \"T_cyto_curvdep0redo.txt\", \"T_cyto_curvdep20.txt\", \"T_cyto_D150.txt\"]\n",
    "plot_names = [\"ATP_cyto\", \"ATP_IMS\", \"ADP_matrix\"]\n",
    "conversions = [cyto_vol * 6.02e5, ims_vol * 6.02e5, matrix_vol * 6.02e5]\n",
    "for k in range(len(plot_names)):\n",
    "    plt.figure()\n",
    "    plot_name = plot_names[k]\n",
    "    conversion = conversions[k]\n",
    "    ode_idx = var_names_all.index(plot_name)\n",
    "    results_idx = var_names_saved.index(plot_name) + 1 # add one because time is first el\n",
    "    t_ode, ode_results = mito_ode_calc([0, 0.5], geoParam, 10.0)\n",
    "    plt.plot(1000*t_ode, ode_results[:,ode_idx]/conversion, label=f\"ODE\", linestyle='dashed')\n",
    "    for i in [0, 3, 5]:\n",
    "        if i == 5:\n",
    "            plt.figure()\n",
    "            plt.plot(1000*t_ode, ode_results[:,ode_idx]/conversion, label=f\"ODE\", linestyle='dashed')\n",
    "        if plot_name == \"ATP_cyto\":\n",
    "            file_cur = f\"{cur_dir}/mito_Tcyto_files/{Tcytofiles[i]}\"\n",
    "            results_cur = np.loadtxt(file_cur)\n",
    "            results_vals = results_cur[:,1]\n",
    "            results_time = results_cur[:,0]\n",
    "            plt.plot(1000*results_time, results_vals,label=f\"{npyfiles[i][0:-4]}\")\n",
    "        else:\n",
    "            file_cur = f\"{cur_dir}/mito_npy_files/{npyfiles[i]}\"\n",
    "            results_cur = np.load(file_cur)\n",
    "            results_vals = results_cur[results_idx]\n",
    "            results_time = results_cur[0]\n",
    "            plt.plot(1000*results_time, results_vals,label=f\"{npyfiles[i][0:-4]}\")\n",
    "        if i == 3:\n",
    "            plt.legend()\n",
    "            plt.ylabel(f\"{plot_name} (mM)\")\n",
    "            plt.xlabel(\"Time (ms)\")\n",
    "            plt.xlim([0, 100])\n",
    "            if plot_name == \"ATP_cyto\":\n",
    "                plt.ylim([.308, .33])   \n",
    "            plt.savefig(f\"{cur_dir}/mito_plots/{plot_name}.pdf\", format=\"pdf\")\n",
    "        elif i == 5:\n",
    "            plt.legend()\n",
    "            plt.ylabel(f\"{plot_name} (mM)\")\n",
    "            plt.xlabel(\"Time (ms)\")\n",
    "            plt.xlim([0, 50])\n",
    "            if plot_name == \"ATP_cyto\":\n",
    "                plt.ylim([.308, .33])   \n",
    "            plt.savefig(f\"{cur_dir}/mito_plots/{plot_name}-fastdiffusion.pdf\", format=\"pdf\")\n",
    "            plt.figure(figsize=(3,2))\n",
    "            tInterp = results_time\n",
    "            odeVals = ode_results[:,ode_idx]/conversion\n",
    "            odeValInterp = np.interp(tInterp, t_ode, odeVals)\n",
    "            percent_error = 100*(results_vals-odeValInterp)/odeValInterp\n",
    "            plt.plot(1000*tInterp, percent_error, label=\"Percent error\")\n",
    "            plt.ylabel(f\"{plot_name} error (%)\")\n",
    "            plt.xlabel(\"Time (ms)\")\n",
    "            plt.xlim([0, 100])\n",
    "            # plt.ylim([0, 0.5])\n",
    "            plt.savefig(f\"{cur_dir}/mito_plots/{plot_name}-fastdiffusion-percenterror.pdf\", format=\"pdf\")"
   ]
  }
 ],
 "metadata": {
  "kernelspec": {
   "display_name": "Python 3",
   "language": "python",
   "name": "python3"
  },
  "language_info": {
   "codemirror_mode": {
    "name": "ipython",
    "version": 3
   },
   "file_extension": ".py",
   "mimetype": "text/x-python",
   "name": "python",
   "nbconvert_exporter": "python",
   "pygments_lexer": "ipython3",
   "version": "3.10.12"
  }
 },
 "nbformat": 4,
 "nbformat_minor": 2
}
