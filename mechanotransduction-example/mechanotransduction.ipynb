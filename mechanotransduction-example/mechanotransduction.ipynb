version https://git-lfs.github.com/spec/v1
oid sha256:e33a86ede5b7e6c77d80e5143d6a16e88833026d3ca1279b21a19c86c67b96f6
size 27143
