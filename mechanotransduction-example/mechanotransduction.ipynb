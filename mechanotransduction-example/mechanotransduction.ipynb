version https://git-lfs.github.com/spec/v1
oid sha256:7c80626e60a3bfc5760b10059fd594e40e6338cd690bf032dec0aad1d859cafc
size 30650
