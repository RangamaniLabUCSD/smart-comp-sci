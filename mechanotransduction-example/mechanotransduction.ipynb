version https://git-lfs.github.com/spec/v1
oid sha256:15c0554d12ab586943670ec306ea7ac3b6cba83935a3a25b0a28d26324fa6188
size 32904
