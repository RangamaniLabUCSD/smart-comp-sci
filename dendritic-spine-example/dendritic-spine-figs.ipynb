{
 "cells": [
  {
   "cell_type": "code",
   "execution_count": null,
   "metadata": {
    "metadata": {}
   },
   "outputs": [],
   "source": [
    "import sys, os, pathlib\n",
    "sys.path.append(\"/root/shared/gitrepos/smart-comp-sci/utils\")\n",
    "import smart_analysis\n",
    "from matplotlib import pyplot as plt\n",
    "import numpy as np\n",
    "plt.style.use(str(pathlib.Path.cwd() / \"..\" / \"utils\" / \"smart_plots.mplstyle\"))"
   ]
  },
  {
   "cell_type": "markdown",
   "metadata": {},
   "source": [
    "The following script is used to analyze average values for each variable in the dendritic spine model over time. Three domains are considered, as specified by box regions - spine head, spine neck, and dendritic shaft. Change paths as necessary."
   ]
  },
  {
   "cell_type": "code",
   "execution_count": null,
   "metadata": {},
   "outputs": [],
   "source": [
    "results_folder = \"/root/scratch/smart-comp-sci-data/dendritic_spine/results1\"\n",
    "spine_mesh = \"/root/scratch/smart-comp-sci-data/dendritic_spine/mesh/1spine.h5\"\n",
    "tests = [\"spine-all\", \"spine-head\", \"spine-neck\", \"spine-shaft\"]\n",
    "spine_head = [-1000,-1000,0.2,1000,1000,1000]\n",
    "spine_neck = [0, -1000, -0.4, 1000, 1000, 0.2]\n",
    "spine_shaft = [-1000,-1000,-1000,1000,1000,-0.4]\n",
    "domains = [[], spine_head, spine_neck, spine_shaft]\n",
    "for i in range(len(tests)):\n",
    "    npy_dir = pathlib.Path.cwd() / \"..\" / \"analysis_data\" / \"dendritic-spine\" / \"dendritic_spine_npy_files\"\n",
    "    npy_dir.mkdir(exist_ok=True)\n",
    "\n",
    "    tVec, results_all = smart_analysis.analyze_all(\n",
    "        mesh_file=spine_mesh, results_path=results_folder, display=False,\n",
    "        subdomain=domains[i])\n",
    "    results_all.insert(0, tVec) # add time as first element in list\n",
    "    max_length = len(tVec)\n",
    "    for j in range(len(results_all)):\n",
    "        if len(results_all[j]) > max_length:\n",
    "            max_length = len(results_all[j])\n",
    "    for j in range(len(results_all)):\n",
    "        num_zeros = max_length - len(results_all[j])\n",
    "        for k in range(num_zeros):\n",
    "            results_all[j].append(0)\n",
    "    np.save(npy_dir / f\"{tests[i]}.npy\", results_all)"
   ]
  },
  {
   "cell_type": "markdown",
   "metadata": {},
   "source": [
    "Plot results in dendritic spine head vs. shaft for calcium in the cytosol and spine apparatus (Fig 4D)."
   ]
  },
  {
   "cell_type": "code",
   "execution_count": null,
   "metadata": {
    "metadata": {}
   },
   "outputs": [],
   "source": [
    "spine_vars = [\"Bf\", \"Bm\", \"Ca\", \"CaSA\", \"NMDAR\"]\n",
    "\n",
    "npy_dir = pathlib.Path.cwd() / \"..\" / \"analysis_data\" / \"dendritic-spine\" / \"dendritic_spine_npy_files\"\n",
    "spine_files = [f\"{npy_dir}/spine-head-results.npy\", \n",
    "               f\"{npy_dir}/spine-shaft-results.npy\"]\n",
    "\n",
    "f, (ax1, ax2) = plt.subplots(2, 1, sharex=False)\n",
    "\n",
    "for i in range(len(spine_files)):\n",
    "    results_spine = np.load(spine_files[i])\n",
    "    plot_spine1 = \"Ca\"\n",
    "\n",
    "    spine_idx1 = spine_vars.index(plot_spine1) + 1\n",
    "    ax1.plot(results_spine[0], results_spine[spine_idx1],label=\"Dendritic spine\")\n",
    "    ax1.set_ylim([0, 5])\n",
    "    # ax1.legend()\n",
    "    ax1.set_ylabel(\"Calcium (μM)\")\n",
    "\n",
    "    plot_spine2 = \"CaSA\"\n",
    "    spine_idx2 = spine_vars.index(plot_spine2) + 1\n",
    "    ax2.plot(results_spine[0], results_spine[spine_idx2],'r',label=\"Dendritic spine\")\n",
    "    # ax2.legend()\n",
    "    ax2.set_ylabel(\"SA calcium (μM)\")\n",
    "    ax2.set_ylim([60, 69])\n",
    "    ax2.set_xlabel(\"Time (s)\")\n",
    "plt.savefig(f\"{str(npy_dir)}/spine_both_plots.pdf\", format=\"pdf\")"
   ]
  },
  {
   "cell_type": "markdown",
   "metadata": {},
   "source": [
    "Plot results from mesh refinement, comparing maximum calcium in the spine head vs. the neck, vs. shaft. (Figure 6E)"
   ]
  },
  {
   "cell_type": "code",
   "execution_count": null,
   "metadata": {},
   "outputs": [],
   "source": [
    "import postprocess, json\n",
    "results_folder = pathlib.Path.cwd() / \"..\" / \"analysis_data\" / \"dendritic-spine\" / \"dendritic-spine-spatial\"\n",
    "output_folder = results_folder / \"output\"\n",
    "output_folder.mkdir(exist_ok=True, parents=True)\n",
    "results_file = output_folder / \"results_dendritic_spine.json\"\n",
    "\n",
    "print(f\"Gather results from {results_folder}\")\n",
    "all_results = postprocess.load_all_data(results_folder)\n",
    "print(f\"Save results to {results_file.absolute()}\")\n",
    "results_file.write_text(\n",
    "    json.dumps([r.to_json() for r in all_results], indent=4)\n",
    ")\n",
    "spine_head = [-1000,-1000,0.2,1000,1000,1000]\n",
    "spine_neck = [0, -1000, -0.4, 1000, 1000, 0.2]\n",
    "spine_shaft = [-1000,-1000,-1000,1000,1000,-0.4]\n",
    "domains = [spine_head, spine_neck, spine_shaft]\n",
    "postprocess.plot_linf_error(all_results, output_folder, format=\".pdf\", subdomains=domains)"
   ]
  },
  {
   "cell_type": "markdown",
   "metadata": {},
   "source": [
    "Plot results from mesh refinement and time step refinement for suppl figure.",
    "Plot timings from dendritic spine runs."
   ]
  },
  {
   "cell_type": "code",
   "execution_count": null,
   "metadata": {
    "metadata": {}
   },
   "outputs": [],
   "source": [
    "import postprocess, json\n",
    "results_folder = pathlib.Path.cwd() / \"..\" / \"analysis_data\" / \"dendritic-spine\" / \"dendritic-spine-refinement\"\n",
    "results_file = results_folder / \"results_dendritic_spine.json\"\n",
    "output_folder = results_folder / \"output\"\n",
    "output_folder.mkdir(exist_ok=True, parents=True)\n",
    "all_results = [postprocess.Data(**r) for r in json.loads(results_file.read_text())]\n",
    "postprocess.plot_refinement_study(all_results, output_folder, format=\"pdf\")",
    "import postprocess, json, pathlib\n",
    "output_folder = pathlib.Path.cwd() / \"..\" / \"analysis_data\" / \"results_dendriticspine_new\"\n",
    "results_file = output_folder / \"results_dendritic_spine.json\"\n",
    "json_data = json.loads(results_file.read_text())\n",
    "for i in range(len(json_data)):\n",
    "    json_data[i][\"petsc_timings_\"] = json_data[i].pop(\"petsc_timings\")\n",
    "all_results = [postprocess.Data(**r) for r in json_data]\n",
    "postprocess.plot_timings_stacked(all_results, output_folder, format=\"pdf\")\n",
    "postprocess.plot_timings(all_results, output_folder, format=\"pdf\")"
   ]
  }
 ],
 "metadata": {
  "kernelspec": {
   "display_name": "Python 3",
   "language": "python",
   "name": "python3"
  },
  "language_info": {
   "codemirror_mode": {
    "name": "ipython",
    "version": 3
   },
   "file_extension": ".py",
   "mimetype": "text/x-python",
   "name": "python",
   "nbconvert_exporter": "python",
   "pygments_lexer": "ipython3",
   "version": "3.10.12"
  }
 },
 "nbformat": 4,
 "nbformat_minor": 2
}
